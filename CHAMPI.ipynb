{
 "cells": [
  {
   "cell_type": "markdown",
   "id": "ea46f22f-2539-46bc-9321-c2e370dc1add",
   "metadata": {},
   "source": [
    "# INIT"
   ]
  },
  {
   "cell_type": "code",
   "execution_count": 14,
   "id": "a5c0e0b9-7f70-4523-a0f0-03c6098b4600",
   "metadata": {},
   "outputs": [],
   "source": [
    "!python3 -m venv myenvCHAMPI"
   ]
  },
  {
   "cell_type": "code",
   "execution_count": 15,
   "id": "cc728d44-5d77-49ee-ad1a-a0c224f4a153",
   "metadata": {},
   "outputs": [
    {
     "name": "stdout",
     "output_type": "stream",
     "text": [
      "Installed kernelspec myenvCHAMPI in /Users/pauldelamarre/Library/Jupyter/kernels/myenvchampi\n"
     ]
    }
   ],
   "source": [
    "!python -m ipykernel install --user --name=myenvCHAMPI"
   ]
  },
  {
   "cell_type": "code",
   "execution_count": 16,
   "id": "bde00a76-2dbe-4759-b1c3-5142ce3d3401",
   "metadata": {},
   "outputs": [],
   "source": [
    "#Windows\n",
    "# myenvCHAMPI\\Scripts\\activate.bat\n",
    "#Mac\n",
    "!source myenvCHAMPI/bin/activate"
   ]
  },
  {
   "cell_type": "markdown",
   "id": "e044a685-008b-4b13-9666-959acd9f937b",
   "metadata": {},
   "source": [
    "### Relancer la page + selectionner le nouvel env en haut à droite "
   ]
  },
  {
   "cell_type": "code",
   "execution_count": null,
   "id": "4f1b4be9-949c-4f91-887d-0e2d76a5b75b",
   "metadata": {},
   "outputs": [],
   "source": [
    "!pip install -r requirements.txt"
   ]
  },
  {
   "cell_type": "code",
   "execution_count": null,
   "id": "38bdf9fb-4b91-4165-9ccd-e1e604fd45e0",
   "metadata": {},
   "outputs": [],
   "source": []
  },
  {
   "cell_type": "code",
   "execution_count": null,
   "id": "5ea0f6f6-80bf-4d92-a2df-ed64dca08750",
   "metadata": {},
   "outputs": [],
   "source": []
  },
  {
   "cell_type": "code",
   "execution_count": null,
   "id": "3ca6883f-6ce5-4f04-9e0d-23f2be371052",
   "metadata": {},
   "outputs": [],
   "source": []
  },
  {
   "cell_type": "code",
   "execution_count": null,
   "id": "ba291ead-7c27-4fd2-afe8-f48c8ccb6163",
   "metadata": {},
   "outputs": [],
   "source": []
  },
  {
   "cell_type": "code",
   "execution_count": null,
   "id": "58a83ec4-ac25-4a62-afa1-d3f35336415e",
   "metadata": {},
   "outputs": [],
   "source": []
  },
  {
   "cell_type": "code",
   "execution_count": null,
   "id": "9a3e2b43-816a-4902-a940-93c279049ba5",
   "metadata": {},
   "outputs": [],
   "source": []
  },
  {
   "cell_type": "code",
   "execution_count": null,
   "id": "5f13bdb5-1b6e-4bb5-bec8-9a9a10f95120",
   "metadata": {},
   "outputs": [],
   "source": []
  },
  {
   "cell_type": "code",
   "execution_count": null,
   "id": "8638a8b2-5585-4002-81e1-9fa11d5f6904",
   "metadata": {},
   "outputs": [],
   "source": []
  },
  {
   "cell_type": "code",
   "execution_count": null,
   "id": "097dc611-e811-40ee-898b-3b9b3bd3fc19",
   "metadata": {},
   "outputs": [],
   "source": []
  },
  {
   "cell_type": "code",
   "execution_count": null,
   "id": "bef1fad8-7b49-4eb1-8a36-374795b9143a",
   "metadata": {},
   "outputs": [],
   "source": []
  },
  {
   "cell_type": "markdown",
   "id": "4c37dcbd-f142-44e6-bf68-e75a08b0a361",
   "metadata": {},
   "source": [
    "# FIN "
   ]
  },
  {
   "cell_type": "code",
   "execution_count": 5,
   "id": "ea1755e8-521c-4e54-8866-b07bed524a99",
   "metadata": {},
   "outputs": [],
   "source": [
    "!pip freeze > requirements.txt"
   ]
  },
  {
   "cell_type": "code",
   "execution_count": null,
   "id": "ef27e12d-82a5-421b-a058-458142bc1d8b",
   "metadata": {},
   "outputs": [],
   "source": []
  }
 ],
 "metadata": {
  "kernelspec": {
   "display_name": "myenvCHAMPI",
   "language": "python",
   "name": "myenvchampi"
  },
  "language_info": {
   "codemirror_mode": {
    "name": "ipython",
    "version": 3
   },
   "file_extension": ".py",
   "mimetype": "text/x-python",
   "name": "python",
   "nbconvert_exporter": "python",
   "pygments_lexer": "ipython3",
   "version": "3.8.8"
  }
 },
 "nbformat": 4,
 "nbformat_minor": 5
}
