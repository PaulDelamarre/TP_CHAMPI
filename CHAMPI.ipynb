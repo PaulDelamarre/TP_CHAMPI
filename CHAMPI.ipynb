{
 "cells": [
  {
   "cell_type": "markdown",
   "id": "ea46f22f-2539-46bc-9321-c2e370dc1add",
   "metadata": {},
   "source": [
    "# INIT"
   ]
  },
  {
   "cell_type": "code",
   "execution_count": 4,
   "id": "a5c0e0b9-7f70-4523-a0f0-03c6098b4600",
   "metadata": {},
   "outputs": [],
   "source": [
    "!python3 -m venv myenvCHAMPI"
   ]
  },
  {
   "cell_type": "code",
   "execution_count": 15,
   "id": "cc728d44-5d77-49ee-ad1a-a0c224f4a153",
   "metadata": {},
   "outputs": [
    {
     "name": "stdout",
     "output_type": "stream",
     "text": [
      "Installed kernelspec myenvCHAMPI in /Users/pauldelamarre/Library/Jupyter/kernels/myenvchampi\n"
     ]
    }
   ],
   "source": [
    "!python -m ipykernel install --user --name=myenvCHAMPI"
   ]
  },
  {
   "cell_type": "code",
   "execution_count": 16,
   "id": "bde00a76-2dbe-4759-b1c3-5142ce3d3401",
   "metadata": {},
   "outputs": [],
   "source": [
    "#Windows\n",
    "# myenvCHAMPI\\Scripts\\activate.bat\n",
    "#Mac\n",
    "!source myenvCHAMPI/bin/activate"
   ]
  },
  {
   "cell_type": "markdown",
   "id": "e044a685-008b-4b13-9666-959acd9f937b",
   "metadata": {},
   "source": [
    "### Relancer la page + selectionner le nouvel env en haut à droite "
   ]
  },
  {
   "cell_type": "code",
   "execution_count": null,
   "id": "4f1b4be9-949c-4f91-887d-0e2d76a5b75b",
   "metadata": {},
   "outputs": [],
   "source": [
    "!pip install -r requirements.txt"
   ]
  },
  {
   "cell_type": "code",
   "execution_count": 9,
   "id": "5ea0f6f6-80bf-4d92-a2df-ed64dca08750",
   "metadata": {},
   "outputs": [],
   "source": [
    "import numpy as np              # linear algebra\n",
    "import pandas as pd             # data processing, CSV file I/O (e.g. pd.read_csv)\n",
    "import os                       # files handling\n",
    "import re\n",
    "from random import randint, seed\n",
    "from IPython.display import display\n",
    "import warnings\n",
    "warnings.filterwarnings('ignore')"
   ]
  },
  {
   "cell_type": "markdown",
   "id": "cfcca6cb-2e1f-4371-9ef4-d26095e9a677",
   "metadata": {},
   "source": [
    "# Téléchargement des données"
   ]
  },
  {
   "cell_type": "code",
   "execution_count": 10,
   "id": "fd6b9bdc-b4e2-4da6-95a5-3f43da21155d",
   "metadata": {},
   "outputs": [],
   "source": [
    "import json\n",
    "with open('/Users/pauldelamarre/Desktop/TP_PYTHON/TP_CHAMPI/json_files/observations_11.json') as f:\n",
    "    data = json.load(f)"
   ]
  },
  {
   "cell_type": "code",
   "execution_count": 11,
   "id": "58a83ec4-ac25-4a62-afa1-d3f35336415e",
   "metadata": {},
   "outputs": [],
   "source": [
    "df = pd.DataFrame(data)"
   ]
  },
  {
   "cell_type": "code",
   "execution_count": 12,
   "id": "9a3e2b43-816a-4902-a940-93c279049ba5",
   "metadata": {},
   "outputs": [
    {
     "data": {
      "text/html": [
       "<div>\n",
       "<style scoped>\n",
       "    .dataframe tbody tr th:only-of-type {\n",
       "        vertical-align: middle;\n",
       "    }\n",
       "\n",
       "    .dataframe tbody tr th {\n",
       "        vertical-align: top;\n",
       "    }\n",
       "\n",
       "    .dataframe thead th {\n",
       "        text-align: right;\n",
       "    }\n",
       "</style>\n",
       "<table border=\"1\" class=\"dataframe\">\n",
       "  <thead>\n",
       "    <tr style=\"text-align: right;\">\n",
       "      <th></th>\n",
       "      <th>observation</th>\n",
       "      <th>label</th>\n",
       "      <th>image_id</th>\n",
       "      <th>image_url</th>\n",
       "      <th>user</th>\n",
       "      <th>date</th>\n",
       "      <th>gbif_info</th>\n",
       "      <th>thumbnail</th>\n",
       "      <th>location</th>\n",
       "    </tr>\n",
       "  </thead>\n",
       "  <tbody>\n",
       "    <tr>\n",
       "      <th>0</th>\n",
       "      <td>/observer/show_observation/264880</td>\n",
       "      <td>Cortinarius</td>\n",
       "      <td>699257</td>\n",
       "      <td>http://mushroomobserver.org/images/320/699257</td>\n",
       "      <td>/observer/show_user/6796</td>\n",
       "      <td>2016-12-18</td>\n",
       "      <td>{'status': 'ACCEPTED', 'kingdom': 'Fungi', 'us...</td>\n",
       "      <td>1</td>\n",
       "      <td>/location/show_location/1883</td>\n",
       "    </tr>\n",
       "    <tr>\n",
       "      <th>1</th>\n",
       "      <td>/observer/show_observation/264880</td>\n",
       "      <td>Cortinarius</td>\n",
       "      <td>699254</td>\n",
       "      <td>http://mushroomobserver.org/images/320/699254</td>\n",
       "      <td>/observer/show_user/6796</td>\n",
       "      <td>2016-12-18</td>\n",
       "      <td>{'status': 'ACCEPTED', 'kingdom': 'Fungi', 'us...</td>\n",
       "      <td>0</td>\n",
       "      <td>/location/show_location/1883</td>\n",
       "    </tr>\n",
       "    <tr>\n",
       "      <th>2</th>\n",
       "      <td>/observer/show_observation/264880</td>\n",
       "      <td>Cortinarius</td>\n",
       "      <td>699255</td>\n",
       "      <td>http://mushroomobserver.org/images/320/699255</td>\n",
       "      <td>/observer/show_user/6796</td>\n",
       "      <td>2016-12-18</td>\n",
       "      <td>{'status': 'ACCEPTED', 'kingdom': 'Fungi', 'us...</td>\n",
       "      <td>0</td>\n",
       "      <td>/location/show_location/1883</td>\n",
       "    </tr>\n",
       "    <tr>\n",
       "      <th>3</th>\n",
       "      <td>/observer/show_observation/264880</td>\n",
       "      <td>Cortinarius</td>\n",
       "      <td>699256</td>\n",
       "      <td>http://mushroomobserver.org/images/320/699256</td>\n",
       "      <td>/observer/show_user/6796</td>\n",
       "      <td>2016-12-18</td>\n",
       "      <td>{'status': 'ACCEPTED', 'kingdom': 'Fungi', 'us...</td>\n",
       "      <td>0</td>\n",
       "      <td>/location/show_location/1883</td>\n",
       "    </tr>\n",
       "    <tr>\n",
       "      <th>4</th>\n",
       "      <td>/observer/show_observation/264881</td>\n",
       "      <td>Cortinarius variosimilis</td>\n",
       "      <td>699260</td>\n",
       "      <td>http://mushroomobserver.org/images/320/699260</td>\n",
       "      <td>/observer/show_user/120</td>\n",
       "      <td>2016-11-14</td>\n",
       "      <td>{'kingdom': 'Fungi', 'family': 'Cortinariaceae...</td>\n",
       "      <td>1</td>\n",
       "      <td>/location/show_location/4145</td>\n",
       "    </tr>\n",
       "  </tbody>\n",
       "</table>\n",
       "</div>"
      ],
      "text/plain": [
       "                         observation                     label image_id  \\\n",
       "0  /observer/show_observation/264880               Cortinarius   699257   \n",
       "1  /observer/show_observation/264880               Cortinarius   699254   \n",
       "2  /observer/show_observation/264880               Cortinarius   699255   \n",
       "3  /observer/show_observation/264880               Cortinarius   699256   \n",
       "4  /observer/show_observation/264881  Cortinarius variosimilis   699260   \n",
       "\n",
       "                                       image_url                      user  \\\n",
       "0  http://mushroomobserver.org/images/320/699257  /observer/show_user/6796   \n",
       "1  http://mushroomobserver.org/images/320/699254  /observer/show_user/6796   \n",
       "2  http://mushroomobserver.org/images/320/699255  /observer/show_user/6796   \n",
       "3  http://mushroomobserver.org/images/320/699256  /observer/show_user/6796   \n",
       "4  http://mushroomobserver.org/images/320/699260   /observer/show_user/120   \n",
       "\n",
       "         date                                          gbif_info  thumbnail  \\\n",
       "0  2016-12-18  {'status': 'ACCEPTED', 'kingdom': 'Fungi', 'us...          1   \n",
       "1  2016-12-18  {'status': 'ACCEPTED', 'kingdom': 'Fungi', 'us...          0   \n",
       "2  2016-12-18  {'status': 'ACCEPTED', 'kingdom': 'Fungi', 'us...          0   \n",
       "3  2016-12-18  {'status': 'ACCEPTED', 'kingdom': 'Fungi', 'us...          0   \n",
       "4  2016-11-14  {'kingdom': 'Fungi', 'family': 'Cortinariaceae...          1   \n",
       "\n",
       "                       location  \n",
       "0  /location/show_location/1883  \n",
       "1  /location/show_location/1883  \n",
       "2  /location/show_location/1883  \n",
       "3  /location/show_location/1883  \n",
       "4  /location/show_location/4145  "
      ]
     },
     "execution_count": 12,
     "metadata": {},
     "output_type": "execute_result"
    }
   ],
   "source": [
    "df.head(5)"
   ]
  },
  {
   "cell_type": "code",
   "execution_count": null,
   "id": "943db1bd-389d-4978-ac01-8d1fd8f5b6ee",
   "metadata": {},
   "outputs": [],
   "source": []
  },
  {
   "cell_type": "code",
   "execution_count": 13,
   "id": "5f13bdb5-1b6e-4bb5-bec8-9a9a10f95120",
   "metadata": {},
   "outputs": [],
   "source": [
    "import requests\n",
    "import matplotlib.pyplot as plt\n",
    "import matplotlib.image as mpimg\n",
    "import urllib.request\n",
    "def download_image(url):\n",
    "    with urllib.request.urlopen(url) as url_response:\n",
    "        img_data = url_response.read()\n",
    "    return img_data"
   ]
  },
  {
   "cell_type": "code",
   "execution_count": 23,
   "id": "6057ab97-3c73-41f1-ba91-ba0760c2ddab",
   "metadata": {},
   "outputs": [],
   "source": [
    "res = download_image(\"https://images.mushroomobserver.org/320/699256.jpg\")"
   ]
  },
  {
   "cell_type": "code",
   "execution_count": null,
   "id": "427ba1c3-5534-41ff-baa3-25a891759df3",
   "metadata": {},
   "outputs": [],
   "source": [
    "array(res)"
   ]
  },
  {
   "cell_type": "markdown",
   "id": "4c37dcbd-f142-44e6-bf68-e75a08b0a361",
   "metadata": {},
   "source": [
    "# FIN "
   ]
  },
  {
   "cell_type": "code",
   "execution_count": 5,
   "id": "ea1755e8-521c-4e54-8866-b07bed524a99",
   "metadata": {},
   "outputs": [],
   "source": [
    "!pip freeze > requirements.txt"
   ]
  },
  {
   "cell_type": "code",
   "execution_count": null,
   "id": "ef27e12d-82a5-421b-a058-458142bc1d8b",
   "metadata": {},
   "outputs": [],
   "source": []
  }
 ],
 "metadata": {
  "kernelspec": {
   "display_name": "myenvCHAMPI",
   "language": "python",
   "name": "myenvchampi"
  },
  "language_info": {
   "codemirror_mode": {
    "name": "ipython",
    "version": 3
   },
   "file_extension": ".py",
   "mimetype": "text/x-python",
   "name": "python",
   "nbconvert_exporter": "python",
   "pygments_lexer": "ipython3",
   "version": "3.8.8"
  }
 },
 "nbformat": 4,
 "nbformat_minor": 5
}
