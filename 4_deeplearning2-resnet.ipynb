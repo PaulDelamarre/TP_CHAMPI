{
 "cells": [
  {
   "cell_type": "markdown",
   "metadata": {
    "_cell_guid": "b1076dfc-b9ad-4769-8c92-a6c4dae69d19",
    "_uuid": "8f2839f25d086af736a60e9eeb907d3b93b6e0e5",
    "execution": {
     "iopub.execute_input": "2023-05-03T15:33:48.141684Z",
     "iopub.status.busy": "2023-05-03T15:33:48.141251Z",
     "iopub.status.idle": "2023-05-03T15:33:59.479829Z",
     "shell.execute_reply": "2023-05-03T15:33:59.478064Z",
     "shell.execute_reply.started": "2023-05-03T15:33:48.141654Z"
    }
   },
   "source": [
    "# Notebook 4"
   ]
  },
  {
   "cell_type": "markdown",
   "metadata": {},
   "source": [
    "Ce notebook est découpé en plusieurs axes de travail :\n",
    "\n",
    "- Import des packages\n",
    "- Import des données\n",
    "- Pre-processing\n",
    "- Entrainement avec RES-NET 34\n",
    "- Téléchargement images avec la carte chaleure\n",
    "- Tester le modele retenu\n",
    "- Traitement des fichiers résultats\n",
    "- Matrice de confusion"
   ]
  },
  {
   "cell_type": "markdown",
   "metadata": {},
   "source": [
    "# Import des packages"
   ]
  },
  {
   "cell_type": "code",
   "execution_count": 1,
   "metadata": {
    "execution": {
     "iopub.execute_input": "2023-05-03T18:17:25.676585Z",
     "iopub.status.busy": "2023-05-03T18:17:25.676222Z",
     "iopub.status.idle": "2023-05-03T18:17:38.568355Z",
     "shell.execute_reply": "2023-05-03T18:17:38.566287Z",
     "shell.execute_reply.started": "2023-05-03T18:17:25.676554Z"
    }
   },
   "outputs": [
    {
     "name": "stdout",
     "output_type": "stream",
     "text": [
      "import ok\n"
     ]
    }
   ],
   "source": [
    "import numpy as np # linear algebra\n",
    "import pandas as pd # data processing, CSV file I/O (e.g. pd.read_csv)\n",
    "import os # files handling\n",
    "import re\n",
    "from PIL import Image\n",
    "import torchvision.transforms as transforms\n",
    "from PIL import Image\n",
    "import csv\n",
    "import torch\n",
    "import torchvision.transforms as transforms\n",
    "from PIL import Image\n",
    "from random import randint, seed\n",
    "from IPython.display import display\n",
    "import matplotlib.pyplot as plt\n",
    "import json\n",
    "import warnings\n",
    "import requests\n",
    "import seaborn as sns\n",
    "warnings.filterwarnings('ignore')\n",
    "import cv2\n",
    "import tensorflow\n",
    "from tensorflow import keras\n",
    "from keras.models import Sequential # Pour construire un réseau de neurones\n",
    "from keras.layers import Dense, Dropout, Flatten, LeakyReLU # Pour instancier une couche dense\n",
    "from keras.utils import np_utils\n",
    "from keras.layers.convolutional import Conv2D, MaxPooling2D\n",
    "from sklearn.model_selection import train_test_split\n",
    "from keras.optimizers import Adam\n",
    "from sklearn.metrics import confusion_matrix\n",
    "from sklearn import metrics\n",
    "from keras.wrappers.scikit_learn import KerasClassifier\n",
    "from sklearn.model_selection import GridSearchCV\n",
    "import torch\n",
    "import torch.nn as nn\n",
    "import torch.optim as optim\n",
    "from torch.utils.data import Dataset, DataLoader\n",
    "from torchvision import transforms, models\n",
    "from sklearn.preprocessing import LabelEncoder\n",
    "from tqdm import tqdm\n",
    "import torch.nn.functional as F\n",
    "import zipfile\n",
    "import seaborn as sns\n",
    "print(\"import ok\")"
   ]
  },
  {
   "cell_type": "markdown",
   "metadata": {},
   "source": [
    "# Import des données"
   ]
  },
  {
   "cell_type": "code",
   "execution_count": 2,
   "metadata": {
    "execution": {
     "iopub.execute_input": "2023-05-03T18:17:38.571482Z",
     "iopub.status.busy": "2023-05-03T18:17:38.570395Z",
     "iopub.status.idle": "2023-05-03T18:17:38.580977Z",
     "shell.execute_reply": "2023-05-03T18:17:38.579451Z",
     "shell.execute_reply.started": "2023-05-03T18:17:38.571442Z"
    }
   },
   "outputs": [],
   "source": [
    "# Fonction pour charger toutes les images comme dans les autres packages\n",
    "def load_jpeg_images(path):\n",
    "    image_files = [f for f in os.listdir(path) if f.endswith('.jpg') or f.endswith('.jpeg')]\n",
    "    images = []\n",
    "    ids = []\n",
    "    for file in image_files:\n",
    "        ids.append(os.path.splitext(file)[0])\n",
    "        with Image.open(os.path.join(path, file)) as image:\n",
    "            image_data = np.array(image)\n",
    "            img = cv2.resize(image_data, (100, 100))\n",
    "            images.append(img)\n",
    "\n",
    "    dataimage = pd.DataFrame({\"ids\": ids, \"img\": images})\n",
    "    datachampi = pd.read_csv('/kaggle/input/images-bapti/dataframe/champignons.csv')\n",
    "\n",
    "    datachampi = datachampi[['label', 'image_id']]\n",
    "\n",
    "    dataimage[['ids']] = dataimage[['ids']].astype('int64')\n",
    "\n",
    "    dataset = pd.merge(dataimage, datachampi, left_on='ids', right_on='image_id', how='left')\n",
    "\n",
    "    return dataset"
   ]
  },
  {
   "cell_type": "code",
   "execution_count": 45,
   "metadata": {
    "execution": {
     "iopub.execute_input": "2023-05-03T20:37:50.956411Z",
     "iopub.status.busy": "2023-05-03T20:37:50.955274Z",
     "iopub.status.idle": "2023-05-03T20:38:14.714885Z",
     "shell.execute_reply": "2023-05-03T20:38:14.713763Z",
     "shell.execute_reply.started": "2023-05-03T20:37:50.956370Z"
    }
   },
   "outputs": [],
   "source": [
    "df2 = load_jpeg_images(\"/kaggle/input/images-bapti/images\")"
   ]
  },
  {
   "cell_type": "code",
   "execution_count": 3,
   "metadata": {
    "execution": {
     "iopub.execute_input": "2023-05-03T18:17:38.583629Z",
     "iopub.status.busy": "2023-05-03T18:17:38.582488Z",
     "iopub.status.idle": "2023-05-03T18:18:38.592980Z",
     "shell.execute_reply": "2023-05-03T18:18:38.591947Z",
     "shell.execute_reply.started": "2023-05-03T18:17:38.583585Z"
    }
   },
   "outputs": [
    {
     "data": {
      "text/html": [
       "<div>\n",
       "<style scoped>\n",
       "    .dataframe tbody tr th:only-of-type {\n",
       "        vertical-align: middle;\n",
       "    }\n",
       "\n",
       "    .dataframe tbody tr th {\n",
       "        vertical-align: top;\n",
       "    }\n",
       "\n",
       "    .dataframe thead th {\n",
       "        text-align: right;\n",
       "    }\n",
       "</style>\n",
       "<table border=\"1\" class=\"dataframe\">\n",
       "  <thead>\n",
       "    <tr style=\"text-align: right;\">\n",
       "      <th></th>\n",
       "      <th>ids</th>\n",
       "      <th>img</th>\n",
       "      <th>label</th>\n",
       "      <th>image_id</th>\n",
       "    </tr>\n",
       "  </thead>\n",
       "  <tbody>\n",
       "    <tr>\n",
       "      <th>0</th>\n",
       "      <td>286008</td>\n",
       "      <td>[[[48, 44, 55], [45, 39, 49], [35, 28, 36], [3...</td>\n",
       "      <td>Hypholoma fasciculare</td>\n",
       "      <td>286008</td>\n",
       "    </tr>\n",
       "    <tr>\n",
       "      <th>1</th>\n",
       "      <td>458679</td>\n",
       "      <td>[[[91, 76, 43], [100, 75, 64], [79, 50, 41], [...</td>\n",
       "      <td>Pleurotus ostreatus</td>\n",
       "      <td>458679</td>\n",
       "    </tr>\n",
       "    <tr>\n",
       "      <th>2</th>\n",
       "      <td>134968</td>\n",
       "      <td>[[[94, 70, 84], [162, 143, 129], [80, 54, 37],...</td>\n",
       "      <td>Coprinus comatus</td>\n",
       "      <td>134968</td>\n",
       "    </tr>\n",
       "    <tr>\n",
       "      <th>3</th>\n",
       "      <td>333550</td>\n",
       "      <td>[[[44, 38, 16], [44, 27, 11], [35, 14, 4], [60...</td>\n",
       "      <td>Pluteus cervinus</td>\n",
       "      <td>333550</td>\n",
       "    </tr>\n",
       "    <tr>\n",
       "      <th>4</th>\n",
       "      <td>428572</td>\n",
       "      <td>[[[104, 107, 112], [106, 107, 111], [111, 111,...</td>\n",
       "      <td>Fuligo septica</td>\n",
       "      <td>428572</td>\n",
       "    </tr>\n",
       "  </tbody>\n",
       "</table>\n",
       "</div>"
      ],
      "text/plain": [
       "      ids                                                img  \\\n",
       "0  286008  [[[48, 44, 55], [45, 39, 49], [35, 28, 36], [3...   \n",
       "1  458679  [[[91, 76, 43], [100, 75, 64], [79, 50, 41], [...   \n",
       "2  134968  [[[94, 70, 84], [162, 143, 129], [80, 54, 37],...   \n",
       "3  333550  [[[44, 38, 16], [44, 27, 11], [35, 14, 4], [60...   \n",
       "4  428572  [[[104, 107, 112], [106, 107, 111], [111, 111,...   \n",
       "\n",
       "                   label  image_id  \n",
       "0  Hypholoma fasciculare    286008  \n",
       "1    Pleurotus ostreatus    458679  \n",
       "2       Coprinus comatus    134968  \n",
       "3       Pluteus cervinus    333550  \n",
       "4         Fuligo septica    428572  "
      ]
     },
     "metadata": {},
     "output_type": "display_data"
    }
   ],
   "source": [
    "df = load_jpeg_images(\"/kaggle/input/images-bapti/images\")\n",
    "df = df.drop(index=7802)\n",
    "# Mise en place du jeu de X et Y en numpy pour qu'il puisse être traité dans les réseaux de neuronnes\n",
    "display(df.head())\n",
    "X = df['img'].to_numpy()\n",
    "Y = df['label'].to_numpy()\n",
    "for i in range(len(X)):\n",
    "    if str(X[i].shape) != \"(100, 100, 3)\":\n",
    "        print(\"Yes\"+str(X[i].shape)+str(i))"
   ]
  },
  {
   "cell_type": "markdown",
   "metadata": {},
   "source": [
    "# Pre-processing"
   ]
  },
  {
   "cell_type": "code",
   "execution_count": 4,
   "metadata": {
    "execution": {
     "iopub.execute_input": "2023-05-03T18:18:38.596677Z",
     "iopub.status.busy": "2023-05-03T18:18:38.596354Z",
     "iopub.status.idle": "2023-05-03T18:18:38.700098Z",
     "shell.execute_reply": "2023-05-03T18:18:38.698654Z",
     "shell.execute_reply.started": "2023-05-03T18:18:38.596647Z"
    }
   },
   "outputs": [
    {
     "name": "stdout",
     "output_type": "stream",
     "text": [
      "(9447, 100, 100, 3)\n",
      "(9447,)\n"
     ]
    }
   ],
   "source": [
    "# X = [np.array(x) for x in X]\n",
    "# Modification de la taille de X pour que tous ces éléments soient pris en compte dans ses dimensions\n",
    "X = np.stack(X)\n",
    "print(X.shape)\n",
    "print(Y.shape)"
   ]
  },
  {
   "cell_type": "code",
   "execution_count": 5,
   "metadata": {
    "execution": {
     "iopub.execute_input": "2023-05-03T18:18:38.703120Z",
     "iopub.status.busy": "2023-05-03T18:18:38.701874Z",
     "iopub.status.idle": "2023-05-03T18:18:39.539206Z",
     "shell.execute_reply": "2023-05-03T18:18:39.538031Z",
     "shell.execute_reply.started": "2023-05-03T18:18:38.703073Z"
    }
   },
   "outputs": [
    {
     "name": "stdout",
     "output_type": "stream",
     "text": [
      "Les dimensions de X_train est de (7085, 100, 100, 3).\n",
      "Les dimensions de Y_train est de (7085, 10).\n",
      "Les dimensions de X_test est de (2362, 100, 100, 3).\n",
      "Les dimensions de Y_test est de (2362, 10).\n",
      "\n",
      "\n",
      "Le nombre de pixels est de :  30000\n",
      "Le nombre de classes est de :  10\n"
     ]
    }
   ],
   "source": [
    "# One hot encoding\n",
    "Y = pd.get_dummies(Y)\n",
    "\n",
    "# Création du jeu d'entrainement et du jeu de test\n",
    "X_train, X_test, Y_train, Y_test = train_test_split(X,Y, test_size = 0.25)\n",
    "print('Les dimensions de X_train est de '+str(X_train.shape)+'.')\n",
    "print('Les dimensions de Y_train est de '+str(Y_train.shape)+'.')\n",
    "print('Les dimensions de X_test est de '+str(X_test.shape)+'.')\n",
    "print('Les dimensions de Y_test est de '+str(Y_test.shape)+'.')\n",
    "\n",
    "# Redimension des jeu de train\n",
    "X_train1 = X_train.reshape([-1, X_train.shape[1]*X_train.shape[2]*X_train.shape[3]])\n",
    "X_test1 = X_test.reshape([-1, X_test.shape[1]*X_test.shape[2]*X_train.shape[3]])\n",
    "\n",
    "X_train1 = X_train1/255\n",
    "X_test1 = X_test1/255\n",
    "\n",
    "nb_pixel = X_train1.shape[1]\n",
    "nb_class = Y_train.shape[1]\n",
    "\n",
    "print(\"\\n\\nLe nombre de pixels est de : \", nb_pixel)\n",
    "print(\"Le nombre de classes est de : \", nb_class)"
   ]
  },
  {
   "cell_type": "markdown",
   "metadata": {},
   "source": [
    "# Entrainement avec RES-NET 34"
   ]
  },
  {
   "cell_type": "markdown",
   "metadata": {},
   "source": [
    "Entrainement sur 100 epochs"
   ]
  },
  {
   "cell_type": "code",
   "execution_count": 6,
   "metadata": {
    "execution": {
     "iopub.execute_input": "2023-05-03T18:18:39.543217Z",
     "iopub.status.busy": "2023-05-03T18:18:39.542376Z",
     "iopub.status.idle": "2023-05-03T19:10:12.612312Z",
     "shell.execute_reply": "2023-05-03T19:10:12.611215Z",
     "shell.execute_reply.started": "2023-05-03T18:18:39.543172Z"
    }
   },
   "outputs": [
    {
     "name": "stdout",
     "output_type": "stream",
     "text": [
      "Utilisation de l'appareil: cuda\n"
     ]
    },
    {
     "name": "stderr",
     "output_type": "stream",
     "text": [
      "Downloading: \"https://download.pytorch.org/models/resnet34-b627a593.pth\" to /root/.cache/torch/hub/checkpoints/resnet34-b627a593.pth\n"
     ]
    },
    {
     "data": {
      "application/vnd.jupyter.widget-view+json": {
       "model_id": "9b61419bf3da4b229703895e8fd43292",
       "version_major": 2,
       "version_minor": 0
      },
      "text/plain": [
       "  0%|          | 0.00/83.3M [00:00<?, ?B/s]"
      ]
     },
     "metadata": {},
     "output_type": "display_data"
    },
    {
     "name": "stderr",
     "output_type": "stream",
     "text": [
      "  0%|          | 0/100 [00:00<?, ?it/s]"
     ]
    },
    {
     "name": "stdout",
     "output_type": "stream",
     "text": [
      "Epoch: 1/100\n",
      "Training Loss: 1.306\n",
      "Validation Loss: 0.833\n",
      "Validation Accuracy: 71.587 %\n"
     ]
    },
    {
     "name": "stderr",
     "output_type": "stream",
     "text": [
      "  1%|          | 1/100 [00:37<1:02:34, 37.92s/it]"
     ]
    },
    {
     "name": "stdout",
     "output_type": "stream",
     "text": [
      "Epoch: 2/100\n",
      "Training Loss: 0.566\n",
      "Validation Loss: 0.753\n",
      "Validation Accuracy: 75.556 %\n"
     ]
    },
    {
     "name": "stderr",
     "output_type": "stream",
     "text": [
      "  2%|▏         | 2/100 [01:09<55:41, 34.10s/it]  "
     ]
    },
    {
     "name": "stdout",
     "output_type": "stream",
     "text": [
      "Epoch: 3/100\n",
      "Training Loss: 0.276\n",
      "Validation Loss: 0.785\n",
      "Validation Accuracy: 75.450 %\n"
     ]
    },
    {
     "name": "stderr",
     "output_type": "stream",
     "text": [
      "  4%|▍         | 4/100 [02:12<51:44, 32.34s/it]"
     ]
    },
    {
     "name": "stdout",
     "output_type": "stream",
     "text": [
      "Epoch: 4/100\n",
      "Training Loss: 0.154\n",
      "Validation Loss: 0.775\n",
      "Validation Accuracy: 77.354 %\n"
     ]
    },
    {
     "name": "stderr",
     "output_type": "stream",
     "text": [
      "  5%|▌         | 5/100 [02:43<50:34, 31.94s/it]"
     ]
    },
    {
     "name": "stdout",
     "output_type": "stream",
     "text": [
      "Epoch: 5/100\n",
      "Training Loss: 0.075\n",
      "Validation Loss: 0.842\n",
      "Validation Accuracy: 78.042 %\n"
     ]
    },
    {
     "name": "stderr",
     "output_type": "stream",
     "text": [
      "  6%|▌         | 6/100 [03:14<49:37, 31.67s/it]"
     ]
    },
    {
     "name": "stdout",
     "output_type": "stream",
     "text": [
      "Epoch: 6/100\n",
      "Training Loss: 0.053\n",
      "Validation Loss: 0.846\n",
      "Validation Accuracy: 77.407 %\n"
     ]
    },
    {
     "name": "stderr",
     "output_type": "stream",
     "text": [
      "  7%|▋         | 7/100 [03:45<48:50, 31.51s/it]"
     ]
    },
    {
     "name": "stdout",
     "output_type": "stream",
     "text": [
      "Epoch: 7/100\n",
      "Training Loss: 0.030\n",
      "Validation Loss: 0.874\n",
      "Validation Accuracy: 77.725 %\n"
     ]
    },
    {
     "name": "stderr",
     "output_type": "stream",
     "text": [
      "  8%|▊         | 8/100 [04:17<48:10, 31.42s/it]"
     ]
    },
    {
     "name": "stdout",
     "output_type": "stream",
     "text": [
      "Epoch: 8/100\n",
      "Training Loss: 0.023\n",
      "Validation Loss: 0.874\n",
      "Validation Accuracy: 77.672 %\n"
     ]
    },
    {
     "name": "stderr",
     "output_type": "stream",
     "text": [
      "  9%|▉         | 9/100 [04:48<47:31, 31.34s/it]"
     ]
    },
    {
     "name": "stdout",
     "output_type": "stream",
     "text": [
      "Epoch: 9/100\n",
      "Training Loss: 0.035\n",
      "Validation Loss: 0.951\n",
      "Validation Accuracy: 77.249 %\n"
     ]
    },
    {
     "name": "stderr",
     "output_type": "stream",
     "text": [
      " 10%|█         | 10/100 [05:19<46:57, 31.30s/it]"
     ]
    },
    {
     "name": "stdout",
     "output_type": "stream",
     "text": [
      "Epoch: 10/100\n",
      "Training Loss: 0.022\n",
      "Validation Loss: 0.905\n",
      "Validation Accuracy: 78.677 %\n"
     ]
    },
    {
     "name": "stderr",
     "output_type": "stream",
     "text": [
      " 11%|█         | 11/100 [05:50<46:25, 31.30s/it]"
     ]
    },
    {
     "name": "stdout",
     "output_type": "stream",
     "text": [
      "Epoch: 11/100\n",
      "Training Loss: 0.014\n",
      "Validation Loss: 0.905\n",
      "Validation Accuracy: 78.413 %\n"
     ]
    },
    {
     "name": "stderr",
     "output_type": "stream",
     "text": [
      " 12%|█▏        | 12/100 [06:22<46:05, 31.42s/it]"
     ]
    },
    {
     "name": "stdout",
     "output_type": "stream",
     "text": [
      "Epoch: 12/100\n",
      "Training Loss: 0.025\n",
      "Validation Loss: 0.914\n",
      "Validation Accuracy: 77.989 %\n",
      "Epoch: 13/100\n",
      "Training Loss: 0.009\n",
      "Validation Loss: 0.915\n",
      "Validation Accuracy: 78.254 %\n"
     ]
    },
    {
     "name": "stderr",
     "output_type": "stream",
     "text": [
      " 14%|█▍        | 14/100 [07:25<45:09, 31.50s/it]"
     ]
    },
    {
     "name": "stdout",
     "output_type": "stream",
     "text": [
      "Epoch: 14/100\n",
      "Training Loss: 0.009\n",
      "Validation Loss: 0.993\n",
      "Validation Accuracy: 77.725 %\n"
     ]
    },
    {
     "name": "stderr",
     "output_type": "stream",
     "text": [
      " 15%|█▌        | 15/100 [07:57<44:40, 31.53s/it]"
     ]
    },
    {
     "name": "stdout",
     "output_type": "stream",
     "text": [
      "Epoch: 15/100\n",
      "Training Loss: 0.011\n",
      "Validation Loss: 0.978\n",
      "Validation Accuracy: 77.196 %\n"
     ]
    },
    {
     "name": "stderr",
     "output_type": "stream",
     "text": [
      " 16%|█▌        | 16/100 [08:28<44:02, 31.46s/it]"
     ]
    },
    {
     "name": "stdout",
     "output_type": "stream",
     "text": [
      "Epoch: 16/100\n",
      "Training Loss: 0.014\n",
      "Validation Loss: 0.992\n",
      "Validation Accuracy: 76.878 %\n"
     ]
    },
    {
     "name": "stderr",
     "output_type": "stream",
     "text": [
      " 17%|█▋        | 17/100 [09:00<43:34, 31.50s/it]"
     ]
    },
    {
     "name": "stdout",
     "output_type": "stream",
     "text": [
      "Epoch: 17/100\n",
      "Training Loss: 0.010\n",
      "Validation Loss: 0.971\n",
      "Validation Accuracy: 77.619 %\n"
     ]
    },
    {
     "name": "stderr",
     "output_type": "stream",
     "text": [
      " 18%|█▊        | 18/100 [09:31<42:57, 31.44s/it]"
     ]
    },
    {
     "name": "stdout",
     "output_type": "stream",
     "text": [
      "Epoch: 18/100\n",
      "Training Loss: 0.012\n",
      "Validation Loss: 0.965\n",
      "Validation Accuracy: 77.672 %\n"
     ]
    },
    {
     "name": "stderr",
     "output_type": "stream",
     "text": [
      " 19%|█▉        | 19/100 [10:02<42:16, 31.32s/it]"
     ]
    },
    {
     "name": "stdout",
     "output_type": "stream",
     "text": [
      "Epoch: 19/100\n",
      "Training Loss: 0.013\n",
      "Validation Loss: 0.979\n",
      "Validation Accuracy: 78.519 %\n"
     ]
    },
    {
     "name": "stderr",
     "output_type": "stream",
     "text": [
      " 20%|██        | 20/100 [10:33<41:46, 31.33s/it]"
     ]
    },
    {
     "name": "stdout",
     "output_type": "stream",
     "text": [
      "Epoch: 20/100\n",
      "Training Loss: 0.014\n",
      "Validation Loss: 1.000\n",
      "Validation Accuracy: 78.201 %\n"
     ]
    },
    {
     "name": "stderr",
     "output_type": "stream",
     "text": [
      " 21%|██        | 21/100 [11:05<41:12, 31.30s/it]"
     ]
    },
    {
     "name": "stdout",
     "output_type": "stream",
     "text": [
      "Epoch: 21/100\n",
      "Training Loss: 0.012\n",
      "Validation Loss: 1.006\n",
      "Validation Accuracy: 78.677 %\n"
     ]
    },
    {
     "name": "stderr",
     "output_type": "stream",
     "text": [
      " 22%|██▏       | 22/100 [11:36<40:49, 31.41s/it]"
     ]
    },
    {
     "name": "stdout",
     "output_type": "stream",
     "text": [
      "Epoch: 22/100\n",
      "Training Loss: 0.011\n",
      "Validation Loss: 1.005\n",
      "Validation Accuracy: 77.831 %\n"
     ]
    },
    {
     "name": "stderr",
     "output_type": "stream",
     "text": [
      " 23%|██▎       | 23/100 [12:08<40:25, 31.50s/it]"
     ]
    },
    {
     "name": "stdout",
     "output_type": "stream",
     "text": [
      "Epoch: 23/100\n",
      "Training Loss: 0.018\n",
      "Validation Loss: 1.030\n",
      "Validation Accuracy: 77.407 %\n"
     ]
    },
    {
     "name": "stderr",
     "output_type": "stream",
     "text": [
      " 24%|██▍       | 24/100 [12:39<39:51, 31.47s/it]"
     ]
    },
    {
     "name": "stdout",
     "output_type": "stream",
     "text": [
      "Epoch: 24/100\n",
      "Training Loss: 0.022\n",
      "Validation Loss: 1.106\n",
      "Validation Accuracy: 76.720 %\n"
     ]
    },
    {
     "name": "stderr",
     "output_type": "stream",
     "text": [
      " 25%|██▌       | 25/100 [13:10<39:11, 31.36s/it]"
     ]
    },
    {
     "name": "stdout",
     "output_type": "stream",
     "text": [
      "Epoch: 25/100\n",
      "Training Loss: 0.016\n",
      "Validation Loss: 1.059\n",
      "Validation Accuracy: 77.407 %\n"
     ]
    },
    {
     "name": "stderr",
     "output_type": "stream",
     "text": [
      " 26%|██▌       | 26/100 [13:42<38:35, 31.29s/it]"
     ]
    },
    {
     "name": "stdout",
     "output_type": "stream",
     "text": [
      "Epoch: 26/100\n",
      "Training Loss: 0.010\n",
      "Validation Loss: 1.079\n",
      "Validation Accuracy: 77.249 %\n"
     ]
    },
    {
     "name": "stderr",
     "output_type": "stream",
     "text": [
      " 27%|██▋       | 27/100 [14:13<38:03, 31.28s/it]"
     ]
    },
    {
     "name": "stdout",
     "output_type": "stream",
     "text": [
      "Epoch: 27/100\n",
      "Training Loss: 0.026\n",
      "Validation Loss: 1.179\n",
      "Validation Accuracy: 75.820 %\n"
     ]
    },
    {
     "name": "stderr",
     "output_type": "stream",
     "text": [
      " 28%|██▊       | 28/100 [14:44<37:24, 31.17s/it]"
     ]
    },
    {
     "name": "stdout",
     "output_type": "stream",
     "text": [
      "Epoch: 28/100\n",
      "Training Loss: 0.020\n",
      "Validation Loss: 1.093\n",
      "Validation Accuracy: 76.772 %\n"
     ]
    },
    {
     "name": "stderr",
     "output_type": "stream",
     "text": [
      " 29%|██▉       | 29/100 [15:15<36:46, 31.08s/it]"
     ]
    },
    {
     "name": "stdout",
     "output_type": "stream",
     "text": [
      "Epoch: 29/100\n",
      "Training Loss: 0.012\n",
      "Validation Loss: 1.101\n",
      "Validation Accuracy: 76.561 %\n"
     ]
    },
    {
     "name": "stderr",
     "output_type": "stream",
     "text": [
      " 30%|███       | 30/100 [15:45<35:58, 30.84s/it]"
     ]
    },
    {
     "name": "stdout",
     "output_type": "stream",
     "text": [
      "Epoch: 30/100\n",
      "Training Loss: 0.007\n",
      "Validation Loss: 1.071\n",
      "Validation Accuracy: 77.249 %\n"
     ]
    },
    {
     "name": "stderr",
     "output_type": "stream",
     "text": [
      " 31%|███       | 31/100 [16:15<35:18, 30.70s/it]"
     ]
    },
    {
     "name": "stdout",
     "output_type": "stream",
     "text": [
      "Epoch: 31/100\n",
      "Training Loss: 0.009\n",
      "Validation Loss: 1.133\n",
      "Validation Accuracy: 76.878 %\n"
     ]
    },
    {
     "name": "stderr",
     "output_type": "stream",
     "text": [
      " 32%|███▏      | 32/100 [16:46<34:40, 30.60s/it]"
     ]
    },
    {
     "name": "stdout",
     "output_type": "stream",
     "text": [
      "Epoch: 32/100\n",
      "Training Loss: 0.005\n",
      "Validation Loss: 1.135\n",
      "Validation Accuracy: 77.407 %\n"
     ]
    },
    {
     "name": "stderr",
     "output_type": "stream",
     "text": [
      " 33%|███▎      | 33/100 [17:16<34:08, 30.57s/it]"
     ]
    },
    {
     "name": "stdout",
     "output_type": "stream",
     "text": [
      "Epoch: 33/100\n",
      "Training Loss: 0.009\n",
      "Validation Loss: 1.125\n",
      "Validation Accuracy: 77.513 %\n"
     ]
    },
    {
     "name": "stderr",
     "output_type": "stream",
     "text": [
      " 34%|███▍      | 34/100 [17:47<33:35, 30.54s/it]"
     ]
    },
    {
     "name": "stdout",
     "output_type": "stream",
     "text": [
      "Epoch: 34/100\n",
      "Training Loss: 0.010\n",
      "Validation Loss: 1.109\n",
      "Validation Accuracy: 77.407 %\n"
     ]
    },
    {
     "name": "stderr",
     "output_type": "stream",
     "text": [
      " 35%|███▌      | 35/100 [18:17<33:00, 30.47s/it]"
     ]
    },
    {
     "name": "stdout",
     "output_type": "stream",
     "text": [
      "Epoch: 35/100\n",
      "Training Loss: 0.006\n",
      "Validation Loss: 1.151\n",
      "Validation Accuracy: 77.249 %\n"
     ]
    },
    {
     "name": "stderr",
     "output_type": "stream",
     "text": [
      " 36%|███▌      | 36/100 [18:47<32:33, 30.52s/it]"
     ]
    },
    {
     "name": "stdout",
     "output_type": "stream",
     "text": [
      "Epoch: 36/100\n",
      "Training Loss: 0.016\n",
      "Validation Loss: 1.147\n",
      "Validation Accuracy: 76.772 %\n"
     ]
    },
    {
     "name": "stderr",
     "output_type": "stream",
     "text": [
      " 37%|███▋      | 37/100 [19:18<32:01, 30.50s/it]"
     ]
    },
    {
     "name": "stdout",
     "output_type": "stream",
     "text": [
      "Epoch: 37/100\n",
      "Training Loss: 0.009\n",
      "Validation Loss: 1.122\n",
      "Validation Accuracy: 78.360 %\n"
     ]
    },
    {
     "name": "stderr",
     "output_type": "stream",
     "text": [
      " 38%|███▊      | 38/100 [19:48<31:28, 30.46s/it]"
     ]
    },
    {
     "name": "stdout",
     "output_type": "stream",
     "text": [
      "Epoch: 38/100\n",
      "Training Loss: 0.006\n",
      "Validation Loss: 1.127\n",
      "Validation Accuracy: 78.148 %\n"
     ]
    },
    {
     "name": "stderr",
     "output_type": "stream",
     "text": [
      " 39%|███▉      | 39/100 [20:19<30:57, 30.45s/it]"
     ]
    },
    {
     "name": "stdout",
     "output_type": "stream",
     "text": [
      "Epoch: 39/100\n",
      "Training Loss: 0.005\n",
      "Validation Loss: 1.086\n",
      "Validation Accuracy: 78.148 %\n"
     ]
    },
    {
     "name": "stderr",
     "output_type": "stream",
     "text": [
      " 40%|████      | 40/100 [20:49<30:31, 30.53s/it]"
     ]
    },
    {
     "name": "stdout",
     "output_type": "stream",
     "text": [
      "Epoch: 40/100\n",
      "Training Loss: 0.014\n",
      "Validation Loss: 1.131\n",
      "Validation Accuracy: 77.619 %\n"
     ]
    },
    {
     "name": "stderr",
     "output_type": "stream",
     "text": [
      " 41%|████      | 41/100 [21:20<30:03, 30.56s/it]"
     ]
    },
    {
     "name": "stdout",
     "output_type": "stream",
     "text": [
      "Epoch: 41/100\n",
      "Training Loss: 0.006\n",
      "Validation Loss: 1.127\n",
      "Validation Accuracy: 78.095 %\n"
     ]
    },
    {
     "name": "stderr",
     "output_type": "stream",
     "text": [
      " 42%|████▏     | 42/100 [21:51<29:31, 30.55s/it]"
     ]
    },
    {
     "name": "stdout",
     "output_type": "stream",
     "text": [
      "Epoch: 42/100\n",
      "Training Loss: 0.011\n",
      "Validation Loss: 1.102\n",
      "Validation Accuracy: 77.989 %\n"
     ]
    },
    {
     "name": "stderr",
     "output_type": "stream",
     "text": [
      " 43%|████▎     | 43/100 [22:21<28:53, 30.42s/it]"
     ]
    },
    {
     "name": "stdout",
     "output_type": "stream",
     "text": [
      "Epoch: 43/100\n",
      "Training Loss: 0.007\n",
      "Validation Loss: 1.136\n",
      "Validation Accuracy: 77.937 %\n"
     ]
    },
    {
     "name": "stderr",
     "output_type": "stream",
     "text": [
      " 44%|████▍     | 44/100 [22:51<28:21, 30.38s/it]"
     ]
    },
    {
     "name": "stdout",
     "output_type": "stream",
     "text": [
      "Epoch: 44/100\n",
      "Training Loss: 0.005\n",
      "Validation Loss: 1.115\n",
      "Validation Accuracy: 78.307 %\n"
     ]
    },
    {
     "name": "stderr",
     "output_type": "stream",
     "text": [
      " 45%|████▌     | 45/100 [23:22<27:56, 30.49s/it]"
     ]
    },
    {
     "name": "stdout",
     "output_type": "stream",
     "text": [
      "Epoch: 45/100\n",
      "Training Loss: 0.004\n",
      "Validation Loss: 1.088\n",
      "Validation Accuracy: 79.048 %\n"
     ]
    },
    {
     "name": "stderr",
     "output_type": "stream",
     "text": [
      " 46%|████▌     | 46/100 [23:52<27:28, 30.52s/it]"
     ]
    },
    {
     "name": "stdout",
     "output_type": "stream",
     "text": [
      "Epoch: 46/100\n",
      "Training Loss: 0.016\n",
      "Validation Loss: 1.135\n",
      "Validation Accuracy: 78.254 %\n"
     ]
    },
    {
     "name": "stderr",
     "output_type": "stream",
     "text": [
      " 47%|████▋     | 47/100 [24:23<26:59, 30.56s/it]"
     ]
    },
    {
     "name": "stdout",
     "output_type": "stream",
     "text": [
      "Epoch: 47/100\n",
      "Training Loss: 0.009\n",
      "Validation Loss: 1.116\n",
      "Validation Accuracy: 78.254 %\n"
     ]
    },
    {
     "name": "stderr",
     "output_type": "stream",
     "text": [
      " 48%|████▊     | 48/100 [24:54<26:28, 30.55s/it]"
     ]
    },
    {
     "name": "stdout",
     "output_type": "stream",
     "text": [
      "Epoch: 48/100\n",
      "Training Loss: 0.007\n",
      "Validation Loss: 1.171\n",
      "Validation Accuracy: 77.884 %\n"
     ]
    },
    {
     "name": "stderr",
     "output_type": "stream",
     "text": [
      " 49%|████▉     | 49/100 [25:24<26:03, 30.65s/it]"
     ]
    },
    {
     "name": "stdout",
     "output_type": "stream",
     "text": [
      "Epoch: 49/100\n",
      "Training Loss: 0.017\n",
      "Validation Loss: 1.170\n",
      "Validation Accuracy: 76.561 %\n"
     ]
    },
    {
     "name": "stderr",
     "output_type": "stream",
     "text": [
      " 50%|█████     | 50/100 [25:55<25:31, 30.63s/it]"
     ]
    },
    {
     "name": "stdout",
     "output_type": "stream",
     "text": [
      "Epoch: 50/100\n",
      "Training Loss: 0.006\n",
      "Validation Loss: 1.137\n",
      "Validation Accuracy: 77.619 %\n"
     ]
    },
    {
     "name": "stderr",
     "output_type": "stream",
     "text": [
      " 51%|█████     | 51/100 [26:26<24:59, 30.61s/it]"
     ]
    },
    {
     "name": "stdout",
     "output_type": "stream",
     "text": [
      "Epoch: 51/100\n",
      "Training Loss: 0.005\n",
      "Validation Loss: 1.112\n",
      "Validation Accuracy: 78.730 %\n"
     ]
    },
    {
     "name": "stderr",
     "output_type": "stream",
     "text": [
      " 52%|█████▏    | 52/100 [26:56<24:30, 30.64s/it]"
     ]
    },
    {
     "name": "stdout",
     "output_type": "stream",
     "text": [
      "Epoch: 52/100\n",
      "Training Loss: 0.010\n",
      "Validation Loss: 1.125\n",
      "Validation Accuracy: 78.201 %\n"
     ]
    },
    {
     "name": "stderr",
     "output_type": "stream",
     "text": [
      " 53%|█████▎    | 53/100 [27:27<24:00, 30.64s/it]"
     ]
    },
    {
     "name": "stdout",
     "output_type": "stream",
     "text": [
      "Epoch: 53/100\n",
      "Training Loss: 0.030\n",
      "Validation Loss: 1.116\n",
      "Validation Accuracy: 77.249 %\n"
     ]
    },
    {
     "name": "stderr",
     "output_type": "stream",
     "text": [
      " 54%|█████▍    | 54/100 [27:58<23:29, 30.64s/it]"
     ]
    },
    {
     "name": "stdout",
     "output_type": "stream",
     "text": [
      "Epoch: 54/100\n",
      "Training Loss: 0.017\n",
      "Validation Loss: 1.086\n",
      "Validation Accuracy: 78.254 %\n"
     ]
    },
    {
     "name": "stderr",
     "output_type": "stream",
     "text": [
      " 55%|█████▌    | 55/100 [28:28<23:00, 30.67s/it]"
     ]
    },
    {
     "name": "stdout",
     "output_type": "stream",
     "text": [
      "Epoch: 55/100\n",
      "Training Loss: 0.009\n",
      "Validation Loss: 1.189\n",
      "Validation Accuracy: 77.407 %\n"
     ]
    },
    {
     "name": "stderr",
     "output_type": "stream",
     "text": [
      " 56%|█████▌    | 56/100 [28:59<22:29, 30.67s/it]"
     ]
    },
    {
     "name": "stdout",
     "output_type": "stream",
     "text": [
      "Epoch: 56/100\n",
      "Training Loss: 0.013\n",
      "Validation Loss: 1.146\n",
      "Validation Accuracy: 76.984 %\n"
     ]
    },
    {
     "name": "stderr",
     "output_type": "stream",
     "text": [
      " 57%|█████▋    | 57/100 [29:30<21:58, 30.67s/it]"
     ]
    },
    {
     "name": "stdout",
     "output_type": "stream",
     "text": [
      "Epoch: 57/100\n",
      "Training Loss: 0.056\n",
      "Validation Loss: 1.164\n",
      "Validation Accuracy: 75.661 %\n"
     ]
    },
    {
     "name": "stderr",
     "output_type": "stream",
     "text": [
      " 58%|█████▊    | 58/100 [30:00<21:26, 30.64s/it]"
     ]
    },
    {
     "name": "stdout",
     "output_type": "stream",
     "text": [
      "Epoch: 58/100\n",
      "Training Loss: 0.012\n",
      "Validation Loss: 1.151\n",
      "Validation Accuracy: 76.402 %\n"
     ]
    },
    {
     "name": "stderr",
     "output_type": "stream",
     "text": [
      " 59%|█████▉    | 59/100 [30:31<20:55, 30.62s/it]"
     ]
    },
    {
     "name": "stdout",
     "output_type": "stream",
     "text": [
      "Epoch: 59/100\n",
      "Training Loss: 0.008\n",
      "Validation Loss: 1.121\n",
      "Validation Accuracy: 77.249 %\n"
     ]
    },
    {
     "name": "stderr",
     "output_type": "stream",
     "text": [
      " 60%|██████    | 60/100 [31:01<20:24, 30.62s/it]"
     ]
    },
    {
     "name": "stdout",
     "output_type": "stream",
     "text": [
      "Epoch: 60/100\n",
      "Training Loss: 0.006\n",
      "Validation Loss: 1.137\n",
      "Validation Accuracy: 78.042 %\n"
     ]
    },
    {
     "name": "stderr",
     "output_type": "stream",
     "text": [
      " 61%|██████    | 61/100 [31:32<19:54, 30.63s/it]"
     ]
    },
    {
     "name": "stdout",
     "output_type": "stream",
     "text": [
      "Epoch: 61/100\n",
      "Training Loss: 0.014\n",
      "Validation Loss: 1.154\n",
      "Validation Accuracy: 77.407 %\n"
     ]
    },
    {
     "name": "stderr",
     "output_type": "stream",
     "text": [
      " 62%|██████▏   | 62/100 [32:03<19:23, 30.61s/it]"
     ]
    },
    {
     "name": "stdout",
     "output_type": "stream",
     "text": [
      "Epoch: 62/100\n",
      "Training Loss: 0.006\n",
      "Validation Loss: 1.146\n",
      "Validation Accuracy: 78.466 %\n"
     ]
    },
    {
     "name": "stderr",
     "output_type": "stream",
     "text": [
      " 63%|██████▎   | 63/100 [32:33<18:51, 30.58s/it]"
     ]
    },
    {
     "name": "stdout",
     "output_type": "stream",
     "text": [
      "Epoch: 63/100\n",
      "Training Loss: 0.004\n",
      "Validation Loss: 1.132\n",
      "Validation Accuracy: 78.254 %\n"
     ]
    },
    {
     "name": "stderr",
     "output_type": "stream",
     "text": [
      " 64%|██████▍   | 64/100 [33:03<18:16, 30.47s/it]"
     ]
    },
    {
     "name": "stdout",
     "output_type": "stream",
     "text": [
      "Epoch: 64/100\n",
      "Training Loss: 0.009\n",
      "Validation Loss: 1.143\n",
      "Validation Accuracy: 77.196 %\n"
     ]
    },
    {
     "name": "stderr",
     "output_type": "stream",
     "text": [
      " 65%|██████▌   | 65/100 [33:34<17:47, 30.50s/it]"
     ]
    },
    {
     "name": "stdout",
     "output_type": "stream",
     "text": [
      "Epoch: 65/100\n",
      "Training Loss: 0.008\n",
      "Validation Loss: 1.172\n",
      "Validation Accuracy: 77.831 %\n"
     ]
    },
    {
     "name": "stderr",
     "output_type": "stream",
     "text": [
      " 66%|██████▌   | 66/100 [34:04<17:16, 30.48s/it]"
     ]
    },
    {
     "name": "stdout",
     "output_type": "stream",
     "text": [
      "Epoch: 66/100\n",
      "Training Loss: 0.005\n",
      "Validation Loss: 1.109\n",
      "Validation Accuracy: 78.889 %\n"
     ]
    },
    {
     "name": "stderr",
     "output_type": "stream",
     "text": [
      " 67%|██████▋   | 67/100 [34:35<16:48, 30.57s/it]"
     ]
    },
    {
     "name": "stdout",
     "output_type": "stream",
     "text": [
      "Epoch: 67/100\n",
      "Training Loss: 0.013\n",
      "Validation Loss: 1.133\n",
      "Validation Accuracy: 78.466 %\n",
      "Epoch: 68/100\n",
      "Training Loss: 0.005\n",
      "Validation Loss: 1.196\n",
      "Validation Accuracy: 77.937 %\n"
     ]
    },
    {
     "name": "stderr",
     "output_type": "stream",
     "text": [
      " 69%|██████▉   | 69/100 [35:37<15:52, 30.72s/it]"
     ]
    },
    {
     "name": "stdout",
     "output_type": "stream",
     "text": [
      "Epoch: 69/100\n",
      "Training Loss: 0.005\n",
      "Validation Loss: 1.138\n",
      "Validation Accuracy: 78.571 %\n"
     ]
    },
    {
     "name": "stderr",
     "output_type": "stream",
     "text": [
      " 70%|███████   | 70/100 [36:08<15:19, 30.65s/it]"
     ]
    },
    {
     "name": "stdout",
     "output_type": "stream",
     "text": [
      "Epoch: 70/100\n",
      "Training Loss: 0.003\n",
      "Validation Loss: 1.129\n",
      "Validation Accuracy: 79.259 %\n"
     ]
    },
    {
     "name": "stderr",
     "output_type": "stream",
     "text": [
      " 71%|███████   | 71/100 [36:37<14:40, 30.35s/it]"
     ]
    },
    {
     "name": "stdout",
     "output_type": "stream",
     "text": [
      "Epoch: 71/100\n",
      "Training Loss: 0.002\n",
      "Validation Loss: 1.115\n",
      "Validation Accuracy: 78.413 %\n"
     ]
    },
    {
     "name": "stderr",
     "output_type": "stream",
     "text": [
      " 72%|███████▏  | 72/100 [37:07<14:09, 30.32s/it]"
     ]
    },
    {
     "name": "stdout",
     "output_type": "stream",
     "text": [
      "Epoch: 72/100\n",
      "Training Loss: 0.002\n",
      "Validation Loss: 1.092\n",
      "Validation Accuracy: 79.312 %\n"
     ]
    },
    {
     "name": "stderr",
     "output_type": "stream",
     "text": [
      " 73%|███████▎  | 73/100 [37:38<13:40, 30.40s/it]"
     ]
    },
    {
     "name": "stdout",
     "output_type": "stream",
     "text": [
      "Epoch: 73/100\n",
      "Training Loss: 0.002\n",
      "Validation Loss: 1.137\n",
      "Validation Accuracy: 78.571 %\n"
     ]
    },
    {
     "name": "stderr",
     "output_type": "stream",
     "text": [
      " 74%|███████▍  | 74/100 [38:09<13:11, 30.45s/it]"
     ]
    },
    {
     "name": "stdout",
     "output_type": "stream",
     "text": [
      "Epoch: 74/100\n",
      "Training Loss: 0.015\n",
      "Validation Loss: 1.235\n",
      "Validation Accuracy: 77.196 %\n"
     ]
    },
    {
     "name": "stderr",
     "output_type": "stream",
     "text": [
      " 75%|███████▌  | 75/100 [38:39<12:41, 30.48s/it]"
     ]
    },
    {
     "name": "stdout",
     "output_type": "stream",
     "text": [
      "Epoch: 75/100\n",
      "Training Loss: 0.005\n",
      "Validation Loss: 1.172\n",
      "Validation Accuracy: 77.619 %\n"
     ]
    },
    {
     "name": "stderr",
     "output_type": "stream",
     "text": [
      " 76%|███████▌  | 76/100 [39:10<12:12, 30.51s/it]"
     ]
    },
    {
     "name": "stdout",
     "output_type": "stream",
     "text": [
      "Epoch: 76/100\n",
      "Training Loss: 0.005\n",
      "Validation Loss: 1.209\n",
      "Validation Accuracy: 76.984 %\n"
     ]
    },
    {
     "name": "stderr",
     "output_type": "stream",
     "text": [
      " 77%|███████▋  | 77/100 [39:40<11:41, 30.52s/it]"
     ]
    },
    {
     "name": "stdout",
     "output_type": "stream",
     "text": [
      "Epoch: 77/100\n",
      "Training Loss: 0.014\n",
      "Validation Loss: 1.193\n",
      "Validation Accuracy: 77.407 %\n"
     ]
    },
    {
     "name": "stderr",
     "output_type": "stream",
     "text": [
      " 78%|███████▊  | 78/100 [40:11<11:13, 30.59s/it]"
     ]
    },
    {
     "name": "stdout",
     "output_type": "stream",
     "text": [
      "Epoch: 78/100\n",
      "Training Loss: 0.022\n",
      "Validation Loss: 1.178\n",
      "Validation Accuracy: 76.931 %\n"
     ]
    },
    {
     "name": "stderr",
     "output_type": "stream",
     "text": [
      " 79%|███████▉  | 79/100 [40:42<10:44, 30.68s/it]"
     ]
    },
    {
     "name": "stdout",
     "output_type": "stream",
     "text": [
      "Epoch: 79/100\n",
      "Training Loss: 0.010\n",
      "Validation Loss: 1.206\n",
      "Validation Accuracy: 77.831 %\n"
     ]
    },
    {
     "name": "stderr",
     "output_type": "stream",
     "text": [
      " 80%|████████  | 80/100 [41:13<10:14, 30.73s/it]"
     ]
    },
    {
     "name": "stdout",
     "output_type": "stream",
     "text": [
      "Epoch: 80/100\n",
      "Training Loss: 0.004\n",
      "Validation Loss: 1.200\n",
      "Validation Accuracy: 77.672 %\n"
     ]
    },
    {
     "name": "stderr",
     "output_type": "stream",
     "text": [
      " 81%|████████  | 81/100 [41:44<09:45, 30.84s/it]"
     ]
    },
    {
     "name": "stdout",
     "output_type": "stream",
     "text": [
      "Epoch: 81/100\n",
      "Training Loss: 0.003\n",
      "Validation Loss: 1.165\n",
      "Validation Accuracy: 78.201 %\n"
     ]
    },
    {
     "name": "stderr",
     "output_type": "stream",
     "text": [
      " 82%|████████▏ | 82/100 [42:15<09:16, 30.90s/it]"
     ]
    },
    {
     "name": "stdout",
     "output_type": "stream",
     "text": [
      "Epoch: 82/100\n",
      "Training Loss: 0.003\n",
      "Validation Loss: 1.169\n",
      "Validation Accuracy: 78.519 %\n"
     ]
    },
    {
     "name": "stderr",
     "output_type": "stream",
     "text": [
      " 83%|████████▎ | 83/100 [42:46<08:44, 30.83s/it]"
     ]
    },
    {
     "name": "stdout",
     "output_type": "stream",
     "text": [
      "Epoch: 83/100\n",
      "Training Loss: 0.003\n",
      "Validation Loss: 1.164\n",
      "Validation Accuracy: 78.148 %\n"
     ]
    },
    {
     "name": "stderr",
     "output_type": "stream",
     "text": [
      " 84%|████████▍ | 84/100 [43:16<08:12, 30.81s/it]"
     ]
    },
    {
     "name": "stdout",
     "output_type": "stream",
     "text": [
      "Epoch: 84/100\n",
      "Training Loss: 0.013\n",
      "Validation Loss: 1.179\n",
      "Validation Accuracy: 77.407 %\n"
     ]
    },
    {
     "name": "stderr",
     "output_type": "stream",
     "text": [
      " 85%|████████▌ | 85/100 [43:47<07:40, 30.71s/it]"
     ]
    },
    {
     "name": "stdout",
     "output_type": "stream",
     "text": [
      "Epoch: 85/100\n",
      "Training Loss: 0.006\n",
      "Validation Loss: 1.224\n",
      "Validation Accuracy: 77.090 %\n"
     ]
    },
    {
     "name": "stderr",
     "output_type": "stream",
     "text": [
      " 86%|████████▌ | 86/100 [44:17<07:09, 30.67s/it]"
     ]
    },
    {
     "name": "stdout",
     "output_type": "stream",
     "text": [
      "Epoch: 86/100\n",
      "Training Loss: 0.027\n",
      "Validation Loss: 1.288\n",
      "Validation Accuracy: 76.561 %\n"
     ]
    },
    {
     "name": "stderr",
     "output_type": "stream",
     "text": [
      " 87%|████████▋ | 87/100 [44:48<06:39, 30.71s/it]"
     ]
    },
    {
     "name": "stdout",
     "output_type": "stream",
     "text": [
      "Epoch: 87/100\n",
      "Training Loss: 0.011\n",
      "Validation Loss: 1.210\n",
      "Validation Accuracy: 77.407 %\n"
     ]
    },
    {
     "name": "stderr",
     "output_type": "stream",
     "text": [
      " 88%|████████▊ | 88/100 [45:19<06:08, 30.73s/it]"
     ]
    },
    {
     "name": "stdout",
     "output_type": "stream",
     "text": [
      "Epoch: 88/100\n",
      "Training Loss: 0.017\n",
      "Validation Loss: 1.216\n",
      "Validation Accuracy: 77.460 %\n"
     ]
    },
    {
     "name": "stderr",
     "output_type": "stream",
     "text": [
      " 89%|████████▉ | 89/100 [45:50<05:37, 30.72s/it]"
     ]
    },
    {
     "name": "stdout",
     "output_type": "stream",
     "text": [
      "Epoch: 89/100\n",
      "Training Loss: 0.004\n",
      "Validation Loss: 1.170\n",
      "Validation Accuracy: 77.672 %\n"
     ]
    },
    {
     "name": "stderr",
     "output_type": "stream",
     "text": [
      " 90%|█████████ | 90/100 [46:20<05:06, 30.68s/it]"
     ]
    },
    {
     "name": "stdout",
     "output_type": "stream",
     "text": [
      "Epoch: 90/100\n",
      "Training Loss: 0.006\n",
      "Validation Loss: 1.153\n",
      "Validation Accuracy: 78.095 %\n"
     ]
    },
    {
     "name": "stderr",
     "output_type": "stream",
     "text": [
      " 91%|█████████ | 91/100 [46:51<04:35, 30.64s/it]"
     ]
    },
    {
     "name": "stdout",
     "output_type": "stream",
     "text": [
      "Epoch: 91/100\n",
      "Training Loss: 0.002\n",
      "Validation Loss: 1.160\n",
      "Validation Accuracy: 78.360 %\n"
     ]
    },
    {
     "name": "stderr",
     "output_type": "stream",
     "text": [
      " 92%|█████████▏| 92/100 [47:21<04:05, 30.65s/it]"
     ]
    },
    {
     "name": "stdout",
     "output_type": "stream",
     "text": [
      "Epoch: 92/100\n",
      "Training Loss: 0.003\n",
      "Validation Loss: 1.157\n",
      "Validation Accuracy: 78.148 %\n"
     ]
    },
    {
     "name": "stderr",
     "output_type": "stream",
     "text": [
      " 93%|█████████▎| 93/100 [47:52<03:34, 30.64s/it]"
     ]
    },
    {
     "name": "stdout",
     "output_type": "stream",
     "text": [
      "Epoch: 93/100\n",
      "Training Loss: 0.009\n",
      "Validation Loss: 1.283\n",
      "Validation Accuracy: 76.349 %\n"
     ]
    },
    {
     "name": "stderr",
     "output_type": "stream",
     "text": [
      " 94%|█████████▍| 94/100 [48:23<03:03, 30.60s/it]"
     ]
    },
    {
     "name": "stdout",
     "output_type": "stream",
     "text": [
      "Epoch: 94/100\n",
      "Training Loss: 0.022\n",
      "Validation Loss: 1.234\n",
      "Validation Accuracy: 77.090 %\n"
     ]
    },
    {
     "name": "stderr",
     "output_type": "stream",
     "text": [
      " 95%|█████████▌| 95/100 [48:53<02:33, 30.60s/it]"
     ]
    },
    {
     "name": "stdout",
     "output_type": "stream",
     "text": [
      "Epoch: 95/100\n",
      "Training Loss: 0.006\n",
      "Validation Loss: 1.157\n",
      "Validation Accuracy: 77.672 %\n"
     ]
    },
    {
     "name": "stderr",
     "output_type": "stream",
     "text": [
      " 96%|█████████▌| 96/100 [49:24<02:02, 30.64s/it]"
     ]
    },
    {
     "name": "stdout",
     "output_type": "stream",
     "text": [
      "Epoch: 96/100\n",
      "Training Loss: 0.004\n",
      "Validation Loss: 1.145\n",
      "Validation Accuracy: 77.778 %\n"
     ]
    },
    {
     "name": "stderr",
     "output_type": "stream",
     "text": [
      " 97%|█████████▋| 97/100 [49:54<01:31, 30.57s/it]"
     ]
    },
    {
     "name": "stdout",
     "output_type": "stream",
     "text": [
      "Epoch: 97/100\n",
      "Training Loss: 0.002\n",
      "Validation Loss: 1.143\n",
      "Validation Accuracy: 78.042 %\n"
     ]
    },
    {
     "name": "stderr",
     "output_type": "stream",
     "text": [
      " 98%|█████████▊| 98/100 [50:25<01:01, 30.54s/it]"
     ]
    },
    {
     "name": "stdout",
     "output_type": "stream",
     "text": [
      "Epoch: 98/100\n",
      "Training Loss: 0.003\n",
      "Validation Loss: 1.141\n",
      "Validation Accuracy: 78.942 %\n"
     ]
    },
    {
     "name": "stderr",
     "output_type": "stream",
     "text": [
      " 99%|█████████▉| 99/100 [50:55<00:30, 30.34s/it]"
     ]
    },
    {
     "name": "stdout",
     "output_type": "stream",
     "text": [
      "Epoch: 99/100\n",
      "Training Loss: 0.003\n",
      "Validation Loss: 1.149\n",
      "Validation Accuracy: 77.037 %\n"
     ]
    },
    {
     "name": "stderr",
     "output_type": "stream",
     "text": [
      "100%|██████████| 100/100 [51:25<00:00, 30.86s/it]"
     ]
    },
    {
     "name": "stdout",
     "output_type": "stream",
     "text": [
      "Epoch: 100/100\n",
      "Training Loss: 0.016\n",
      "Validation Loss: 1.186\n",
      "Validation Accuracy: 77.460 %\n"
     ]
    },
    {
     "name": "stderr",
     "output_type": "stream",
     "text": [
      "\n"
     ]
    },
    {
     "data": {
      "image/png": "[encoded data removed]",
      "text/plain": [
       "<Figure size 640x480 with 1 Axes>"
      ]
     },
     "metadata": {},
     "output_type": "display_data"
    }
   ],
   "source": [
    "# vérifier la disponibilité du GPU\n",
    "device = torch.device(\"cuda\" if torch.cuda.is_available() else \"cpu\")\n",
    "print(f\"Utilisation de l'appareil: {device}\")\n",
    "\n",
    "# initialiser PyTorch\n",
    "torch.backends.cudnn.benchmark = True\n",
    "\n",
    "# définir la taille maximale pour chaque fragment\n",
    "torch.backends.cudnn.benchmark = True\n",
    "torch.backends.cuda.cufft_plan_cache.max_split_size_mb = 1024\n",
    "\n",
    "class MushroomDataset(Dataset):\n",
    "    def __init__(self, df, transform=None):\n",
    "        self.df = df\n",
    "        self.transform = transform\n",
    "\n",
    "    def __len__(self):\n",
    "        return len(self.df)\n",
    "\n",
    "    def __getitem__(self, idx):\n",
    "        img_path = '/kaggle/input/images-bapti/images/' + str(self.df.iloc[idx]['ids']) + '.jpg'\n",
    "        label = label_encoder.transform([self.df.iloc[idx]['label']])[0]\n",
    "\n",
    "        # Chargement de l'image et transformation en tensor\n",
    "        img = Image.open(img_path).convert('RGB')\n",
    "        img = img.resize((100, 100))\n",
    "\n",
    "        if self.transform:\n",
    "            img = self.transform(img)\n",
    "\n",
    "        # Conversion du label en tensor\n",
    "        label = torch.tensor(int(label))\n",
    "        return img, label\n",
    "\n",
    "transform = transforms.Compose([\n",
    "    transforms.ToTensor(),\n",
    "    transforms.Normalize(mean=[0.485, 0.456, 0.406], std=[0.229, 0.224, 0.225])\n",
    "])\n",
    "\n",
    "img_dir = '/kaggle/input/images-bapti/images/'\n",
    "\n",
    "\n",
    "# Chargement du dataset et Création du LabelEncoder et ajustement sur les labels du dataframe\n",
    "label_encoder = LabelEncoder()\n",
    "label_encoder.fit(df['label'])\n",
    "dataset = MushroomDataset(df, transform=transform)\n",
    "\n",
    "# Division du dataset en training set et validation set\n",
    "train_size = int(0.8 * len(dataset))\n",
    "val_size = len(dataset) - train_size\n",
    "train_dataset, val_dataset = torch.utils.data.random_split(dataset, [train_size, val_size])\n",
    "\n",
    "# Création des dataloaders pour le training set et le validation set\n",
    "train_loader = DataLoader(train_dataset, batch_size=32, shuffle=True, num_workers=4)\n",
    "val_loader = DataLoader(val_dataset, batch_size=32, shuffle=False, num_workers=4)\n",
    "\n",
    "# Chargement du modèle ResNet34 pré-entraîné\n",
    "model = models.resnet34(pretrained=True)\n",
    "\n",
    "# Remplacement de la dernière couche linéaire pour notre classification en 30 classes\n",
    "num_ftrs = model.fc.in_features\n",
    "model.fc = nn.Linear(num_ftrs, 10)\n",
    "model.to(device)\n",
    "# Définition de la fonction de perte et de l'optimiseur\n",
    "criterion = nn.CrossEntropyLoss()\n",
    "optimizer = optim.SGD(model.parameters(), lr=0.001, momentum=0.9)\n",
    "\n",
    "# Entraînement du modèle\n",
    "num_epochs = 100\n",
    "train_loss_history = []\n",
    "\n",
    "# Initialisation de la liste pour stocker les valeurs de validation accuracy\n",
    "val_acc_history = []\n",
    "\n",
    "\n",
    "# Entraînement du modèle\n",
    "for epoch in tqdm(range(100)):\n",
    "    train_loss = 0.0\n",
    "    valid_loss = 0.0\n",
    "    correct = 0\n",
    "    total = 0\n",
    "\n",
    "    # Entraînement\n",
    "    model.train()\n",
    "    for i, data in enumerate(train_loader, 0):\n",
    "        inputs, labels = data[0].to(device), data[1].to(device)\n",
    "\n",
    "        optimizer.zero_grad()\n",
    "\n",
    "        outputs = model(inputs)\n",
    "        loss = criterion(outputs, labels)\n",
    "        loss.backward()\n",
    "        optimizer.step()\n",
    "\n",
    "        train_loss += loss.item() * inputs.size(0)\n",
    "\n",
    "    # Validation\n",
    "    model.eval()\n",
    "    for i, data in enumerate(val_loader, 0):\n",
    "        inputs, labels = data[0].to(device), data[1].to(device)\n",
    "\n",
    "        outputs = model(inputs)\n",
    "        loss = criterion(outputs, labels)\n",
    "        valid_loss += loss.item() * inputs.size(0)\n",
    "\n",
    "        _, predicted = torch.max(outputs.data, 1)\n",
    "        total += labels.size(0)\n",
    "        correct += (predicted == labels).sum().item()\n",
    "\n",
    "    # Calcul de la validation accuracy et stockage dans la liste\n",
    "    val_accuracy = 100 * correct / total\n",
    "    val_acc_history.append(val_accuracy)\n",
    "\n",
    "    # Affichage des résultats pour cette époque\n",
    "    print('Epoch: %d/%d' % (epoch+1, 100))\n",
    "    print('Training Loss: %.3f' % (train_loss/len(train_loader.dataset)))\n",
    "    print('Validation Loss: %.3f' % (valid_loss/len(val_loader.dataset)))\n",
    "    print('Validation Accuracy: %.3f %%' % val_accuracy)\n",
    "    \n",
    "    # Sauvegarde du modèle\n",
    "    \n",
    "    torch.save(model, f'/kaggle/working/{epoch+1}_entrainement.pth')\n",
    "\n",
    "\n",
    "\n",
    "    # Tracé de l'évolution de la validation accuracy\n",
    "plt.plot(val_acc_history)\n",
    "plt.title('Validation Accuracy vs Epochs')\n",
    "plt.xlabel('Epochs')\n",
    "plt.ylabel('Validation Accuracy')\n",
    "plt.show()"
   ]
  },
  {
   "cell_type": "markdown",
   "metadata": {},
   "source": [
    "A la suite des 100 epochs je souhaite retenir le modele avec l'accuracy sur la validation la plus forte, c'est l'époque 72."
   ]
  },
  {
   "cell_type": "markdown",
   "metadata": {},
   "source": [
    "# Téléchargement images avec la carte chaleure"
   ]
  },
  {
   "cell_type": "markdown",
   "metadata": {},
   "source": [
    "Dans cette partie, nous utilisons le modele retenu à l'époque 72 et nous le testons en affichant la carte chaleure (pixels importants dans la prédictions). Nous enregistrons les données en sortie"
   ]
  },
  {
   "cell_type": "code",
   "execution_count": 67,
   "metadata": {
    "execution": {
     "iopub.execute_input": "2023-05-03T20:55:10.989772Z",
     "iopub.status.busy": "2023-05-03T20:55:10.989230Z",
     "iopub.status.idle": "2023-05-03T20:55:12.333063Z",
     "shell.execute_reply": "2023-05-03T20:55:12.330542Z",
     "shell.execute_reply.started": "2023-05-03T20:55:10.989729Z"
    }
   },
   "outputs": [],
   "source": [
    "mkdir /kaggle/working/output_photo"
   ]
  },
  {
   "cell_type": "code",
   "execution_count": 94,
   "metadata": {
    "execution": {
     "iopub.execute_input": "2023-05-03T21:21:34.489558Z",
     "iopub.status.busy": "2023-05-03T21:21:34.489174Z",
     "iopub.status.idle": "2023-05-03T21:37:49.810479Z",
     "shell.execute_reply": "2023-05-03T21:37:49.809337Z",
     "shell.execute_reply.started": "2023-05-03T21:21:34.489525Z"
    }
   },
   "outputs": [],
   "source": [
    "# Define the list of file paths\n",
    "input_dir=\"/kaggle/input/images-bapti/images\"\n",
    "file_list = [str(file_id) + \".jpg\" for file_id in df[\"ids\"]]\n",
    "\n",
    "# Loop over each file path\n",
    "for file_path in file_list:\n",
    "    # Load the image\n",
    "    img_path = os.path.join(input_dir, file_path)\n",
    "    img = Image.open(img_path)\n",
    "\n",
    "    # Apply the image preprocessing\n",
    "    transform = transforms.Compose([\n",
    "        transforms.Resize((224, 224)),\n",
    "        transforms.ToTensor(),\n",
    "        transforms.Normalize([0.485, 0.456, 0.406], [0.229, 0.224, 0.225])\n",
    "    ])\n",
    "    img_tensor = transform(img).unsqueeze(0).cuda()\n",
    "\n",
    "    # Load the pre-trained model\n",
    "    model = torch.load(\"/kaggle/input/best-train/72_entrainement.pth\")\n",
    "\n",
    "    # Get the weights of the last linear layer\n",
    "    weights = list(model.parameters())[-2]\n",
    "\n",
    "    # Extract the activations from the last convolutional layer\n",
    "    features = model.conv1(img_tensor)\n",
    "    features = model.bn1(features)\n",
    "    features = model.relu(features)\n",
    "    features = model.maxpool(features)\n",
    "\n",
    "    features = model.layer1(features)\n",
    "    features = model.layer2(features)\n",
    "    features = model.layer3(features)\n",
    "    features = model.layer4(features)\n",
    "\n",
    "    features = model.avgpool(features)\n",
    "    features = features.view(features.size(0), -1)\n",
    "\n",
    "    # Make sure features is a tensor of size (1, 512, 7, 7)\n",
    "    features = features.unsqueeze(-1).unsqueeze(-1)\n",
    "\n",
    "    # Compute the CAM mask by taking the product of the weights and the activations\n",
    "    cam = torch.matmul(weights, features.reshape(features.shape[0], -1).T)\n",
    "    cam = cam.reshape(cam.shape[0], features.shape[-2], features.shape[-1])\n",
    "    cam = F.relu(cam)\n",
    "\n",
    "    # Normalize the CAM mask between 0 and 1\n",
    "    cam = cam - cam.min()\n",
    "    cam = cam / cam.max()\n",
    "\n",
    "    # Apply a 3x3 Gaussian filter to the CAM mask\n",
    "    cam = cv2.GaussianBlur(cam.detach().cpu().numpy(), (3, 3), 0)\n",
    "\n",
    "    # Convert cam to a numpy array and resize it\n",
    "    cam_np = np.expand_dims(cam, axis=0)\n",
    "    cam_np = cam_np.squeeze()\n",
    "    cam_np = cv2.resize(cam_np, (img.size[0], img.size[1]))\n",
    "\n",
    "    # Scale between 0 and 255 and convert to unsigned 8-bit integer\n",
    "    cam_np = 255 * cam_np\n",
    "    cam_np = cam_np.astype(np.uint8)\n",
    "\n",
    "    # Merge the image and the CAM mask\n",
    "    img_np = np.array(img)\n",
    "    cam_np_jet = cv2.applyColorMap(cam_np, cv2.COLORMAP_JET)\n",
    "    cam_np_jet = cv2.cvtColor(cam_np_jet, cv2.COLOR_BGR2RGB)\n",
    "    result = cv2.addWeighted(img_np, 0.5, cam_np_jet, 0.5, 0)\n",
    "    file_name = os.path.splitext(os.path.basename(file_path))[0]\n",
    "    output_file_path = os.path.join(os.path.dirname(file_path), file_name + \"_output.jpg\")\n",
    "    cv2.imwrite(output_file_path, result)\n"
   ]
  },
  {
   "cell_type": "code",
   "execution_count": 99,
   "metadata": {
    "execution": {
     "iopub.execute_input": "2023-05-03T21:41:31.902714Z",
     "iopub.status.busy": "2023-05-03T21:41:31.902314Z",
     "iopub.status.idle": "2023-05-03T21:41:31.916488Z",
     "shell.execute_reply": "2023-05-03T21:41:31.914767Z",
     "shell.execute_reply.started": "2023-05-03T21:41:31.902681Z"
    }
   },
   "outputs": [
    {
     "name": "stdout",
     "output_type": "stream",
     "text": [
      "Il y a bien  9447 images en sorties\n"
     ]
    }
   ],
   "source": [
    "comptagefini = len(os.listdir(\"/kaggle/working/\"))\n",
    "print('Il y a bien ', comptagefini , \"images en sorties\")"
   ]
  },
  {
   "cell_type": "markdown",
   "metadata": {},
   "source": [
    "Telechargement des images"
   ]
  },
  {
   "cell_type": "code",
   "execution_count": 100,
   "metadata": {
    "execution": {
     "iopub.execute_input": "2023-05-03T21:43:10.363280Z",
     "iopub.status.busy": "2023-05-03T21:43:10.362702Z",
     "iopub.status.idle": "2023-05-03T21:43:11.991091Z",
     "shell.execute_reply": "2023-05-03T21:43:11.989904Z",
     "shell.execute_reply.started": "2023-05-03T21:43:10.363240Z"
    }
   },
   "outputs": [
    {
     "data": {
      "text/html": [
       "<a href='images.zip' target='_blank'>images.zip</a><br>"
      ],
      "text/plain": [
       "/kaggle/working/images.zip"
      ]
     },
     "metadata": {},
     "output_type": "display_data"
    }
   ],
   "source": [
    "# Chemin du dossier contenant les images\n",
    "path = \"/kaggle/working/\"\n",
    "\n",
    "# Création d'une liste des noms de fichiers des images\n",
    "image_files = [f for f in os.listdir(path) if f.endswith('.jpg') or f.endswith('.png')]\n",
    "\n",
    "# Nom de l'archive zip\n",
    "zip_filename = \"images.zip\"\n",
    "\n",
    "# Création de l'archive zip\n",
    "with zipfile.ZipFile(zip_filename, 'w') as zip_file:\n",
    "    for image in image_files:\n",
    "        zip_file.write(os.path.join(path, image), image)\n",
    "\n",
    "# Téléchargement de l'archive zip depuis le notebook\n",
    "from IPython.display import FileLink\n",
    "display(FileLink(zip_filename))\n"
   ]
  },
  {
   "cell_type": "markdown",
   "metadata": {},
   "source": [
    "# Tester le modele retenu"
   ]
  },
  {
   "cell_type": "markdown",
   "metadata": {},
   "source": [
    "Dans cette partie, on prédit le label sur les photos et sauvegarde des résultats dans un csv."
   ]
  },
  {
   "cell_type": "code",
   "execution_count": 25,
   "metadata": {
    "execution": {
     "iopub.execute_input": "2023-05-03T20:03:38.864427Z",
     "iopub.status.busy": "2023-05-03T20:03:38.863963Z",
     "iopub.status.idle": "2023-05-03T20:03:39.976970Z",
     "shell.execute_reply": "2023-05-03T20:03:39.975388Z",
     "shell.execute_reply.started": "2023-05-03T20:03:38.864391Z"
    }
   },
   "outputs": [],
   "source": [
    "mkdir /kaggle/working/output_csv"
   ]
  },
  {
   "cell_type": "code",
   "execution_count": 26,
   "metadata": {
    "execution": {
     "iopub.execute_input": "2023-05-03T20:04:05.434072Z",
     "iopub.status.busy": "2023-05-03T20:04:05.433591Z",
     "iopub.status.idle": "2023-05-03T20:06:00.956129Z",
     "shell.execute_reply": "2023-05-03T20:06:00.954741Z",
     "shell.execute_reply.started": "2023-05-03T20:04:05.434026Z"
    }
   },
   "outputs": [
    {
     "name": "stdout",
     "output_type": "stream",
     "text": [
      "Utilisation de l'appareil: cuda\n",
      "944/9447 images traitées\n",
      "1888/9447 images traitées\n",
      "2832/9447 images traitées\n",
      "3776/9447 images traitées\n",
      "4720/9447 images traitées\n",
      "5664/9447 images traitées\n",
      "6608/9447 images traitées\n",
      "7552/9447 images traitées\n",
      "8496/9447 images traitées\n",
      "9440/9447 images traitées\n",
      "Prédictions enregistrées dans le fichier predictions.csv\n"
     ]
    }
   ],
   "source": [
    "# Vérifier la disponibilité du GPU\n",
    "device = torch.device(\"cuda\" if torch.cuda.is_available() else \"cpu\")\n",
    "print(f\"Utilisation de l'appareil: {device}\")\n",
    "\n",
    "# Charger le modèle\n",
    "model = torch.load(\"/kaggle/input/best-train/72_entrainement.pth\")\n",
    "model.to(device)\n",
    "\n",
    "# Préparer les transformations d'images\n",
    "transform = transforms.Compose([\n",
    "    transforms.Resize((100, 100)),\n",
    "    transforms.ToTensor(),\n",
    "    transforms.Normalize(mean=[0.485, 0.456, 0.406], std=[0.229, 0.224, 0.225])\n",
    "])\n",
    "\n",
    "# Lire les images et faire les prédictions\n",
    "image_dir = \"/kaggle/input/images-bapti/images\"\n",
    "results = []\n",
    "count = 0\n",
    "total = len(os.listdir(image_dir))\n",
    "for filename in os.listdir(image_dir):\n",
    "    if filename.endswith(\".jpg\"):\n",
    "        # Charger l'image\n",
    "        img_path = os.path.join(image_dir, filename)\n",
    "        img = Image.open(img_path).convert('RGB')\n",
    "        img = transform(img)\n",
    "        img = img.unsqueeze(0).to(device)\n",
    "\n",
    "        # Faire la prédiction\n",
    "        with torch.no_grad():\n",
    "            model.eval()\n",
    "            outputs = model(img)\n",
    "            _, predicted = torch.max(outputs.data, 1)\n",
    "            predicted_label = predicted.cpu().numpy()[0]\n",
    "\n",
    "        # Ajouter les résultats à la liste\n",
    "        results.append((filename, predicted_label))\n",
    "        \n",
    "        # Afficher la progression\n",
    "        count += 1\n",
    "        if count % (total // 10) == 0:\n",
    "            print(f\"{count}/{total} images traitées\")\n",
    "\n",
    "# Écrire les résultats dans un fichier CSV\n",
    "with open('/kaggle/working/output_csv/predictions.csv', mode='w', newline='') as csvfile:\n",
    "    writer = csv.writer(csvfile)\n",
    "    writer.writerow(['Nom de l\\'image', 'Label prédit'])\n",
    "    for result in results:\n",
    "        writer.writerow(result)\n",
    "\n",
    "print(\"Prédictions enregistrées dans le fichier predictions.csv\")\n"
   ]
  },
  {
   "cell_type": "markdown",
   "metadata": {},
   "source": [
    "# Traitement des fichiers resultats"
   ]
  },
  {
   "cell_type": "markdown",
   "metadata": {},
   "source": [
    "On encode les labels entre 0 et 9"
   ]
  },
  {
   "cell_type": "code",
   "execution_count": 178,
   "metadata": {
    "execution": {
     "iopub.execute_input": "2023-05-03T22:42:38.889657Z",
     "iopub.status.busy": "2023-05-03T22:42:38.888738Z",
     "iopub.status.idle": "2023-05-03T22:42:38.912256Z",
     "shell.execute_reply": "2023-05-03T22:42:38.911161Z",
     "shell.execute_reply.started": "2023-05-03T22:42:38.889618Z"
    }
   },
   "outputs": [],
   "source": [
    "df_subset = df[['label', 'image_id']]\n",
    "df_subset['image_id'] = df_subset['image_id'].astype(str) + '.jpg'\n",
    "df_subset['label'] = df_subset['label'].replace({\n",
    "    'Amanita phalloides': 0,\n",
    "    'Coprinellus micaceus': 1,\n",
    "    'Coprinus comatus': 2,\n",
    "    'Fuligo septica': 3,\n",
    "    'Galerina marginata': 4,\n",
    "    'Hypholoma fasciculare': 5,\n",
    "    'Laetiporus sulphureus': 6,\n",
    "    'Pleurotus ostreatus': 7,\n",
    "    'Pluteus cervinus': 8,\n",
    "    'Schizophyllum commune': 9\n",
    "})\n",
    "df_realite=df_subset"
   ]
  },
  {
   "cell_type": "code",
   "execution_count": 179,
   "metadata": {
    "execution": {
     "iopub.execute_input": "2023-05-03T22:42:39.999375Z",
     "iopub.status.busy": "2023-05-03T22:42:39.998294Z",
     "iopub.status.idle": "2023-05-03T22:42:40.029744Z",
     "shell.execute_reply": "2023-05-03T22:42:40.028795Z",
     "shell.execute_reply.started": "2023-05-03T22:42:39.999326Z"
    }
   },
   "outputs": [],
   "source": [
    "df_pred = pd.read_csv('/kaggle/input/res-pred/predictions.csv')\n",
    "df_pred = df_pred.rename(columns={'Nom de l\\'image': 'image_id'})\n",
    "df_final = pd.merge(df_pred, df_realite, on='image_id')"
   ]
  },
  {
   "cell_type": "markdown",
   "metadata": {},
   "source": [
    "# Matrice de confusion"
   ]
  },
  {
   "cell_type": "code",
   "execution_count": 181,
   "metadata": {
    "execution": {
     "iopub.execute_input": "2023-05-03T22:42:52.421197Z",
     "iopub.status.busy": "2023-05-03T22:42:52.420148Z",
     "iopub.status.idle": "2023-05-03T22:42:53.015216Z",
     "shell.execute_reply": "2023-05-03T22:42:53.013953Z",
     "shell.execute_reply.started": "2023-05-03T22:42:52.421152Z"
    }
   },
   "outputs": [
    {
     "data": {
      "image/png": "[encoded data removed]",
      "text/plain": [
       "<Figure size 640x480 with 2 Axes>"
      ]
     },
     "metadata": {},
     "output_type": "display_data"
    }
   ],
   "source": [
    "# créer la matrice de confusion\n",
    "confusion_matrix = pd.crosstab(df_final[\"label\"], df_final[\"Label prédit\"], rownames=[\"Vrai label\"], colnames=[\"Label prédit\"])\n",
    "\n",
    "# afficher la matrice de confusion avec des couleurs\n",
    "sns.heatmap(confusion_matrix, annot=True, fmt=\"d\", cmap=\"YlGnBu\")\n",
    "plt.show()"
   ]
  },
  {
   "cell_type": "markdown",
   "metadata": {},
   "source": [
    "# Manipulation pour tableau de Bord"
   ]
  },
  {
   "cell_type": "code",
   "execution_count": 182,
   "metadata": {
    "execution": {
     "iopub.execute_input": "2023-05-03T22:42:55.807850Z",
     "iopub.status.busy": "2023-05-03T22:42:55.806984Z",
     "iopub.status.idle": "2023-05-03T22:42:55.844949Z",
     "shell.execute_reply": "2023-05-03T22:42:55.844022Z",
     "shell.execute_reply.started": "2023-05-03T22:42:55.807813Z"
    }
   },
   "outputs": [
    {
     "data": {
      "text/html": [
       "<div>\n",
       "<style scoped>\n",
       "    .dataframe tbody tr th:only-of-type {\n",
       "        vertical-align: middle;\n",
       "    }\n",
       "\n",
       "    .dataframe tbody tr th {\n",
       "        vertical-align: top;\n",
       "    }\n",
       "\n",
       "    .dataframe thead th {\n",
       "        text-align: right;\n",
       "    }\n",
       "</style>\n",
       "<table border=\"1\" class=\"dataframe\">\n",
       "  <thead>\n",
       "    <tr style=\"text-align: right;\">\n",
       "      <th></th>\n",
       "      <th>ID</th>\n",
       "      <th>Image_Entree</th>\n",
       "      <th>Image_Sortie</th>\n",
       "      <th>Label_Num_Entree</th>\n",
       "      <th>Label_Nom_Entree</th>\n",
       "      <th>Label_Num_Sortie</th>\n",
       "      <th>Label_Nom_Sortie</th>\n",
       "    </tr>\n",
       "  </thead>\n",
       "  <tbody>\n",
       "    <tr>\n",
       "      <th>0</th>\n",
       "      <td>286008</td>\n",
       "      <td>286008.jpg</td>\n",
       "      <td>286008_output.jpg</td>\n",
       "      <td>5</td>\n",
       "      <td>Hypholoma fasciculare</td>\n",
       "      <td>5</td>\n",
       "      <td>Hypholoma fasciculare</td>\n",
       "    </tr>\n",
       "    <tr>\n",
       "      <th>1</th>\n",
       "      <td>458679</td>\n",
       "      <td>458679.jpg</td>\n",
       "      <td>458679_output.jpg</td>\n",
       "      <td>7</td>\n",
       "      <td>Pleurotus ostreatus</td>\n",
       "      <td>7</td>\n",
       "      <td>Pleurotus ostreatus</td>\n",
       "    </tr>\n",
       "    <tr>\n",
       "      <th>2</th>\n",
       "      <td>134968</td>\n",
       "      <td>134968.jpg</td>\n",
       "      <td>134968_output.jpg</td>\n",
       "      <td>2</td>\n",
       "      <td>Coprinus comatus</td>\n",
       "      <td>2</td>\n",
       "      <td>Coprinus comatus</td>\n",
       "    </tr>\n",
       "    <tr>\n",
       "      <th>3</th>\n",
       "      <td>333550</td>\n",
       "      <td>333550.jpg</td>\n",
       "      <td>333550_output.jpg</td>\n",
       "      <td>8</td>\n",
       "      <td>Pluteus cervinus</td>\n",
       "      <td>8</td>\n",
       "      <td>Pluteus cervinus</td>\n",
       "    </tr>\n",
       "    <tr>\n",
       "      <th>4</th>\n",
       "      <td>428572</td>\n",
       "      <td>428572.jpg</td>\n",
       "      <td>428572_output.jpg</td>\n",
       "      <td>3</td>\n",
       "      <td>Fuligo septica</td>\n",
       "      <td>3</td>\n",
       "      <td>Fuligo septica</td>\n",
       "    </tr>\n",
       "  </tbody>\n",
       "</table>\n",
       "</div>"
      ],
      "text/plain": [
       "       ID Image_Entree       Image_Sortie  Label_Num_Entree  \\\n",
       "0  286008   286008.jpg  286008_output.jpg                 5   \n",
       "1  458679   458679.jpg  458679_output.jpg                 7   \n",
       "2  134968   134968.jpg  134968_output.jpg                 2   \n",
       "3  333550   333550.jpg  333550_output.jpg                 8   \n",
       "4  428572   428572.jpg  428572_output.jpg                 3   \n",
       "\n",
       "        Label_Nom_Entree  Label_Num_Sortie       Label_Nom_Sortie  \n",
       "0  Hypholoma fasciculare                 5  Hypholoma fasciculare  \n",
       "1    Pleurotus ostreatus                 7    Pleurotus ostreatus  \n",
       "2       Coprinus comatus                 2       Coprinus comatus  \n",
       "3       Pluteus cervinus                 8       Pluteus cervinus  \n",
       "4         Fuligo septica                 3         Fuligo septica  "
      ]
     },
     "execution_count": 182,
     "metadata": {},
     "output_type": "execute_result"
    }
   ],
   "source": [
    "# créer la colonne \"image_id_short\"\n",
    "df_final[\"image_id_short\"] = df_final[\"image_id\"].apply(lambda x: x[:-4])\n",
    "\n",
    "# créer les colonnes \"Label_Predit_Nom\" et \"label_nom\"\n",
    "label_dict = {0: 'Amanita phalloides', 1: 'Coprinellus micaceus', 2: 'Coprinus comatus', 3: 'Fuligo septica',\n",
    "              4: 'Galerina marginata', 5: 'Hypholoma fasciculare', 6: 'Laetiporus sulphureus',\n",
    "              7: 'Pleurotus ostreatus', 8: 'Pluteus cervinus', 9: 'Schizophyllum commune'}\n",
    "df_final[\"Label_Predit_Nom\"] = df_final[\"Label prédit\"].apply(lambda x: label_dict[x])\n",
    "df_final[\"label_nom\"] = df_final[\"label\"].apply(lambda x: label_dict[x])\n",
    "df_final['photo_output'] = df_final['image_id'].apply(lambda x: x[:-4] + \"_output.jpg\")\n",
    "\n",
    "# remettre les colonnes dans un ordre plus intuitif\n",
    "df_final = df_final.reindex(columns=[\"image_id_short\", \"image_id\",\"photo_output\", \"label\", \"label_nom\", \"Label prédit\", \"Label_Predit_Nom\"])\n",
    "# renommer\n",
    "df_final = df_final.rename(columns={\n",
    "    \"image_id_short\": \"ID\",\n",
    "    \"image_id\": \"Image_Entree\",\n",
    "    \"photo_output\": \"Image_Sortie\",\n",
    "    \"label\": \"Label_Num_Entree\",\n",
    "    \"label_nom\": \"Label_Nom_Entree\",\n",
    "    \"Label prédit\": \"Label_Num_Sortie\",\n",
    "    \"Label_Predit_Nom\": \"Label_Nom_Sortie\"\n",
    "})\n",
    "\n",
    "# afficher le nouveau dataframe\n",
    "df_final.head(5)"
   ]
  },
  {
   "cell_type": "code",
   "execution_count": 184,
   "metadata": {
    "execution": {
     "iopub.execute_input": "2023-05-03T22:43:26.761149Z",
     "iopub.status.busy": "2023-05-03T22:43:26.760740Z",
     "iopub.status.idle": "2023-05-03T22:43:26.793424Z",
     "shell.execute_reply": "2023-05-03T22:43:26.792430Z",
     "shell.execute_reply.started": "2023-05-03T22:43:26.761111Z"
    }
   },
   "outputs": [],
   "source": [
    "df_final.to_csv('/kaggle/working/df_tableau_bord.csv', index=False)"
   ]
  }
 ],
 "metadata": {
  "kernelspec": {
   "display_name": "Python 3 (ipykernel)",
   "language": "python",
   "name": "python3"
  },
  "language_info": {
   "codemirror_mode": {
    "name": "ipython",
    "version": 3
   },
   "file_extension": ".py",
   "mimetype": "text/x-python",
   "name": "python",
   "nbconvert_exporter": "python",
   "pygments_lexer": "ipython3",
   "version": "3.9.13"
  }
 },
 "nbformat": 4,
 "nbformat_minor": 4
}
