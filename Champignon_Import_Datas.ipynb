{
 "cells": [
  {
   "cell_type": "markdown",
   "id": "c318606a",
   "metadata": {},
   "source": [
    "# Init Kernel"
   ]
  },
  {
   "cell_type": "code",
   "execution_count": null,
   "id": "45524192",
   "metadata": {},
   "outputs": [],
   "source": [
    "!python3 -m venv myenvCHAMPI"
   ]
  },
  {
   "cell_type": "code",
   "execution_count": null,
   "id": "6df5f75f",
   "metadata": {},
   "outputs": [],
   "source": [
    "!python -m ipykernel install --user --name=myenvCHAMPI"
   ]
  },
  {
   "cell_type": "code",
   "execution_count": null,
   "id": "0baae001",
   "metadata": {},
   "outputs": [],
   "source": [
    "#Windows\n",
    "# myenvCHAMPI\\Scripts\\activate.bat\n",
    "#Mac\n",
    "!source myenvCHAMPI/bin/activate"
   ]
  },
  {
   "cell_type": "markdown",
   "id": "7f9b4947",
   "metadata": {},
   "source": [
    "Relancer la page + selectionner le nouvel env en haut à droite"
   ]
  },
  {
   "cell_type": "code",
   "execution_count": null,
   "id": "95dedea8",
   "metadata": {},
   "outputs": [],
   "source": [
    "!pip install -r requirements.txt"
   ]
  },
  {
   "cell_type": "markdown",
   "id": "6fadc07a",
   "metadata": {},
   "source": [
    "# Import des packages"
   ]
  },
  {
   "cell_type": "code",
   "execution_count": 1,
   "id": "3703b734",
   "metadata": {},
   "outputs": [],
   "source": [
    "import numpy as np              # linear algebra\n",
    "import pandas as pd             # data processing, CSV file I/O (e.g. pd.read_csv)\n",
    "import os                       # files handling\n",
    "import re\n",
    "from PIL import Image\n",
    "from random import randint, seed\n",
    "from IPython.display import display\n",
    "import matplotlib.pyplot as plt\n",
    "import json\n",
    "import warnings\n",
    "import requests\n",
    "import seaborn as sns\n",
    "warnings.filterwarnings('ignore')"
   ]
  },
  {
   "cell_type": "markdown",
   "id": "66818613",
   "metadata": {},
   "source": [
    "# Téléchargement des données"
   ]
  },
  {
   "cell_type": "code",
   "execution_count": 2,
   "id": "d270728c",
   "metadata": {},
   "outputs": [
    {
     "data": {
      "text/html": [
       "<div>\n",
       "<style scoped>\n",
       "    .dataframe tbody tr th:only-of-type {\n",
       "        vertical-align: middle;\n",
       "    }\n",
       "\n",
       "    .dataframe tbody tr th {\n",
       "        vertical-align: top;\n",
       "    }\n",
       "\n",
       "    .dataframe thead th {\n",
       "        text-align: right;\n",
       "    }\n",
       "</style>\n",
       "<table border=\"1\" class=\"dataframe\">\n",
       "  <thead>\n",
       "    <tr style=\"text-align: right;\">\n",
       "      <th></th>\n",
       "      <th>observation</th>\n",
       "      <th>label</th>\n",
       "      <th>image_id</th>\n",
       "      <th>image_url</th>\n",
       "      <th>user</th>\n",
       "      <th>date</th>\n",
       "      <th>gbif_info</th>\n",
       "      <th>thumbnail</th>\n",
       "      <th>location</th>\n",
       "      <th>species</th>\n",
       "      <th>...</th>\n",
       "      <th>genus</th>\n",
       "      <th>speciesKey</th>\n",
       "      <th>canonicalName</th>\n",
       "      <th>genusKey</th>\n",
       "      <th>usageKey</th>\n",
       "      <th>rank</th>\n",
       "      <th>class</th>\n",
       "      <th>phylum</th>\n",
       "      <th>status</th>\n",
       "      <th>note</th>\n",
       "    </tr>\n",
       "  </thead>\n",
       "  <tbody>\n",
       "    <tr>\n",
       "      <th>0</th>\n",
       "      <td>24671</td>\n",
       "      <td>Boletus nobilissimus</td>\n",
       "      <td>54745</td>\n",
       "      <td>http://mushroomobserver.org/images/320/54745</td>\n",
       "      <td>290</td>\n",
       "      <td>2009-08-24 02:54:15</td>\n",
       "      <td>{'kingdom': 'Fungi', 'family': 'Boletaceae', '...</td>\n",
       "      <td>1</td>\n",
       "      <td>2259.0</td>\n",
       "      <td>Boletus nobilissimus</td>\n",
       "      <td>...</td>\n",
       "      <td>Boletus</td>\n",
       "      <td>6015253.0</td>\n",
       "      <td>Boletus nobilissimus</td>\n",
       "      <td>7241486.0</td>\n",
       "      <td>6015253.0</td>\n",
       "      <td>SPECIES</td>\n",
       "      <td>Agaricomycetes</td>\n",
       "      <td>Basidiomycota</td>\n",
       "      <td>ACCEPTED</td>\n",
       "      <td>None</td>\n",
       "    </tr>\n",
       "    <tr>\n",
       "      <th>1</th>\n",
       "      <td>24671</td>\n",
       "      <td>Boletus nobilissimus</td>\n",
       "      <td>54746</td>\n",
       "      <td>http://mushroomobserver.org/images/320/54746</td>\n",
       "      <td>290</td>\n",
       "      <td>2009-08-24 02:54:15</td>\n",
       "      <td>{'kingdom': 'Fungi', 'family': 'Boletaceae', '...</td>\n",
       "      <td>0</td>\n",
       "      <td>2259.0</td>\n",
       "      <td>Boletus nobilissimus</td>\n",
       "      <td>...</td>\n",
       "      <td>Boletus</td>\n",
       "      <td>6015253.0</td>\n",
       "      <td>Boletus nobilissimus</td>\n",
       "      <td>7241486.0</td>\n",
       "      <td>6015253.0</td>\n",
       "      <td>SPECIES</td>\n",
       "      <td>Agaricomycetes</td>\n",
       "      <td>Basidiomycota</td>\n",
       "      <td>ACCEPTED</td>\n",
       "      <td>None</td>\n",
       "    </tr>\n",
       "    <tr>\n",
       "      <th>2</th>\n",
       "      <td>24671</td>\n",
       "      <td>Boletus nobilissimus</td>\n",
       "      <td>54747</td>\n",
       "      <td>http://mushroomobserver.org/images/320/54747</td>\n",
       "      <td>290</td>\n",
       "      <td>2009-08-24 02:54:15</td>\n",
       "      <td>{'kingdom': 'Fungi', 'family': 'Boletaceae', '...</td>\n",
       "      <td>0</td>\n",
       "      <td>2259.0</td>\n",
       "      <td>Boletus nobilissimus</td>\n",
       "      <td>...</td>\n",
       "      <td>Boletus</td>\n",
       "      <td>6015253.0</td>\n",
       "      <td>Boletus nobilissimus</td>\n",
       "      <td>7241486.0</td>\n",
       "      <td>6015253.0</td>\n",
       "      <td>SPECIES</td>\n",
       "      <td>Agaricomycetes</td>\n",
       "      <td>Basidiomycota</td>\n",
       "      <td>ACCEPTED</td>\n",
       "      <td>None</td>\n",
       "    </tr>\n",
       "  </tbody>\n",
       "</table>\n",
       "<p>3 rows × 32 columns</p>\n",
       "</div>"
      ],
      "text/plain": [
       "  observation                 label image_id  \\\n",
       "0       24671  Boletus nobilissimus    54745   \n",
       "1       24671  Boletus nobilissimus    54746   \n",
       "2       24671  Boletus nobilissimus    54747   \n",
       "\n",
       "                                      image_url user                 date  \\\n",
       "0  http://mushroomobserver.org/images/320/54745  290  2009-08-24 02:54:15   \n",
       "1  http://mushroomobserver.org/images/320/54746  290  2009-08-24 02:54:15   \n",
       "2  http://mushroomobserver.org/images/320/54747  290  2009-08-24 02:54:15   \n",
       "\n",
       "                                           gbif_info  thumbnail location  \\\n",
       "0  {'kingdom': 'Fungi', 'family': 'Boletaceae', '...          1   2259.0   \n",
       "1  {'kingdom': 'Fungi', 'family': 'Boletaceae', '...          0   2259.0   \n",
       "2  {'kingdom': 'Fungi', 'family': 'Boletaceae', '...          0   2259.0   \n",
       "\n",
       "                species  ...    genus  speciesKey         canonicalName  \\\n",
       "0  Boletus nobilissimus  ...  Boletus   6015253.0  Boletus nobilissimus   \n",
       "1  Boletus nobilissimus  ...  Boletus   6015253.0  Boletus nobilissimus   \n",
       "2  Boletus nobilissimus  ...  Boletus   6015253.0  Boletus nobilissimus   \n",
       "\n",
       "    genusKey   usageKey     rank           class         phylum    status  \\\n",
       "0  7241486.0  6015253.0  SPECIES  Agaricomycetes  Basidiomycota  ACCEPTED   \n",
       "1  7241486.0  6015253.0  SPECIES  Agaricomycetes  Basidiomycota  ACCEPTED   \n",
       "2  7241486.0  6015253.0  SPECIES  Agaricomycetes  Basidiomycota  ACCEPTED   \n",
       "\n",
       "   note  \n",
       "0  None  \n",
       "1  None  \n",
       "2  None  \n",
       "\n",
       "[3 rows x 32 columns]"
      ]
     },
     "execution_count": 2,
     "metadata": {},
     "output_type": "execute_result"
    }
   ],
   "source": [
    "def load_json_data():\n",
    "    \n",
    "    # Créer une liste vide pour stocker les données JSON de chaque fichier\n",
    "    data = []\n",
    "    \n",
    "    # Charger chaque fichier JSON et stocker ses données dans la liste de données\n",
    "    for i in range(1,11):\n",
    "        with open(f\"C:/Users/legal/Documents/Personelle/Ecole/EICNAM/Semestre 4/EntreposageFouillesdeDonnees/TP_Note/TP_CHAMPI/json_files/observations_{i}.json\") as f:\n",
    "            json_data = json.load(f)\n",
    "            if i==1:\n",
    "                df = pd.DataFrame(json_data)\n",
    "            else:\n",
    "                df = df.append(json_data, ignore_index=True)\n",
    "            \n",
    "            new_cols = {}\n",
    "\n",
    "    for i, gbif_info in enumerate(df['gbif_info']):\n",
    "        # Vérification que la valeur est un dictionnaire\n",
    "        if isinstance(gbif_info, dict):\n",
    "            # Parcours de toutes les clés du dictionnaire dans la colonne \"gbif_info\"\n",
    "            for col in set().union(*(d.keys() for d in [gbif_info])):\n",
    "                # Création d'une nouvelle colonne avec le nom de la clé et une liste vide pour stocker les valeurs\n",
    "                if col not in new_cols:\n",
    "                    new_cols[col] = [None] * len(df.index)\n",
    "                \n",
    "                # Stockage de la valeur correspondante dans la liste de la nouvelle colonne\n",
    "                new_cols[col][i] = gbif_info.get(col)\n",
    "\n",
    "    # Fusion des nouvelles colonnes avec le dataframe principal\n",
    "    df = df.join(pd.DataFrame(new_cols))\n",
    "    #for i, image_url in enumerate(df['image_url']):\n",
    "    #    pass\n",
    "    return df\n",
    "df= load_json_data()\n",
    "df.head(3)"
   ]
  },
  {
   "cell_type": "markdown",
   "id": "b4ebe2e9",
   "metadata": {},
   "source": [
    "On a un problème avec les urls.\n",
    "\n",
    "Le Site a changé les chemins des images on passe de\n",
    "\n",
    " http://mushroomobserver.org/images/320/54751   \n",
    "\n",
    " https://images.mushroomobserver.org/320/54751.jpg"
   ]
  },
  {
   "cell_type": "code",
   "execution_count": 3,
   "id": "edb5a580",
   "metadata": {},
   "outputs": [],
   "source": [
    "df['image_url'] = df['image_url'].replace('w*$', '.jpg', regex=True) # Ajout du jpg à la fin\n",
    "df['image_url'] = df['image_url'].replace('mushroomobserver.org/images', 'images.mushroomobserver.org', regex=True) # Changement du chemin"
   ]
  },
  {
   "cell_type": "markdown",
   "id": "7dbfdfce",
   "metadata": {},
   "source": [
    "# Selection des champignons avec le status ACCEPTED et confiance >0.95"
   ]
  },
  {
   "cell_type": "code",
   "execution_count": 4,
   "id": "b007acb7",
   "metadata": {},
   "outputs": [],
   "source": [
    "df = df.loc[df['confidence'] > 0.95]\n",
    "df = df.loc[df['status']=='ACCEPTED']"
   ]
  },
  {
   "cell_type": "markdown",
   "id": "474ba4cb",
   "metadata": {},
   "source": [
    "# Champignon Francais"
   ]
  },
  {
   "cell_type": "code",
   "execution_count": 5,
   "id": "97fe3387",
   "metadata": {},
   "outputs": [],
   "source": [
    "listfrance = [\"Agaricus arvensis\",\"Agaricus augustus\",\"Agaricus campestris\",\"Agaricus silvicola\",\"Agaricus xanthoderma\",\"Agrocybe cylindracea\",\"Albatrellus ovinus\",\"Aleuria aurantia\",\"Amanita caesarea\",\"Amanita citrina\",\"Amanita fulva\",\"Amanita junquillea\",\"Amanita gemmata\",\"Amanita muscaria\",\"Amanita ovoidea\",\"Amanita pantherina\",\"Amanita phalloides\",\"Amanita rubescens\",\"Amanita spissa\",\"Amanita vaginata\",\"Amanita verna\",\"Amanita virosa\",\"Ampulloclitocybe clavipes\",\"Anthurus archeri\",\"Armillaria mellea\",\"Auricularia auricula-judae\",\"Boletus aereus\",\"Boletus aestivalis\",\"Boletus appendiculatus\",\"Boletus calopus\",\"Boletus edulis\",\"Boletus erythropus\",\"Boletus luridus\",\"Boletus pinophilus\",\"Boletus queletii\",\"Boletus satanas\",\"Boletus rhodopurpureus\",\"Boletus aereus\",\"Boletus edulis\",\"Boletus pinophilus\",\"Boletus aestivalis\",\"Boletus aereus\",\"Calocera viscosa\",\"Calocybe gambosa\",\"Calvatia excipuliformis\",\"Calvatia gigantea\",\"Cantharellus cibarius\",\"Chalciporus piperatus\",\"Chlorophyllum rhacodes\",\"Chroogomphus rutilus\",\"Clathrus ruber\",\"Clavariadelphus pistillaris\",\"Clavariadelphus truncatus\",\"Clavulina cristata\",\"Clavulina rugosa\",\"Clitocybe amoenolens\",\"Clitocybe connata\",\"Clitocybe nebularis\",\"Clitocybe odora\",\"Clitopilus prunulus\",\"Coprinellus micaceus\",\"Coprinopsis atramentaria\",\"Coprinopsis picacea\",\"Coprinus comatus\",\"Coprinus disseminatus\",\"Cortinarius alboviolaceus\",\"Cortinarius camphoratus\",\"Cortinarius caperatus\",\"Cortinarius cinnamomeus\",\"Cortinarius orellanus\",\"Cortinarius praestans\",\"Cortinarius speciosissimus\",\"Cortinarius splendens\",\"Cortinarius triumphans\",\"Cortinarius varius\",\"Cortinarius violaceus\",\"Craterellus cinereus\",\"Craterellus cornucopioides\",\"Craterellus lutescens\",\"Craterellus tubaeformis\",\"Daedaleopsis tricolor\",\"Dacrymyces stillatus\",\"Disciotis venosa\",\"Dendropolyporus umbellatus\",\"Entoloma clypeatum\",\"Entoloma sinuatum\",\"Entoloma nitidum\",\"Fuligo septica\",\"Flammulina velutipes\",\"Fistulina hepatica\",\"Galerina marginata\",\"Geastrum fimbriatum\",\"Geastrum triplex\",\"Gomphidius glutinosus\",\"Gomphidius roseus\",\"Gomphus clavatus\",\"Grifola frondosa\",\"Gymnopilus penetrans\",\"Gymnopilus spectabilis\",\"Gymnopus dryophilus\",\"Gymnopus peronatus\",\"Gyromitra esculenta\",\"Gyroporus castaneus\",\"Gyroporus cyanescens\",\"Hebeloma crustuliniforme\",\"Hebeloma laterinum\",\"Hebeloma radicosum\",\"Helvella crispa\",\"Helvella lacunosa\",\"Helvella macropus\",\"Hydnum repandum\",\"Hydnum rufescens\",\"Hygrocybe conica\",\"Hygrocybe pratensis\",\"Hygrocybe virginea\",\"Hygrophoropsis aurantiaca\",\"Hygrophorus agathosmus\",\"Hygrophorus eburneus\",\"Hygrophorus latitabundus\",\"Hygrophorus nemoreus\",\"Hygrophorus russula\",\"Hypholoma fasciculare\",\"Hypholoma lateritium\",\"Infundibulicybe geotropa\",\"Infundibulicybe gibba\",\"Inocybe fastigiata\",\"Inocybe rimosa\",\"Inocybe geophylla\",\"Inocybe patouillardii\",\"Inocybe erubescens\",\"Kuehneromyces mutabilis\",\"Laccaria amethystina\",\"Laccaria laccata\",\"Lactarius blennius\",\"Lactarius camphoratus\",\"Lactarius chrysorrheus\",\"Lactarius deliciosus\",\"Lactarius deterrimus\",\"Lactarius lignyotus\",\"Lactarius necator\",\"Lactarius piperatus\",\"Lactarius rufus\",\"Lactarius sanguifluus\",\"Lactarius torminosus\",\"Lactarius vellereus\",\"Lactarius volemus\",\"Laetiporus sulphureus\",\"Leccinum aurantiacum\",\"Leccinum crocipodium\",\"Leccinum lepidum\",\"Leccinum scabrum\",\"Leccinum versipelle\",\"Lepiota brunneoincarnata\",\"Lepiota clypeolaria\",\"Lepiota cristata\",\"Lepista flaccida\",\"Lepista nuda\",\"Lepista saeva\",\"Lepista sordida\",\"Leucoagaricus leucothites\",\"Lycoperdon echinatum\",\"Lycoperdon perlatum\",\"Lyophyllum decastes\",\"Macrolepiota mastoidea\",\"Macrolepiota procera\",\"Marasmius oreades\",\"Megacollybia platyphylla\",\"Morchella elata\",\"Morchella esculenta\",\"Morganella pyriformis\",\"Mutinus caninus\",\"Mycena polygramma\",\"Mycena pura\",\"Mycena rosea\",\"Otidea onotica\",\"Omphalotus olearius\",\"Oudemansiella mucida\",\"Paxillus involutus\",\"Phaeolepiota aurea\",\"Phallus impudicus\",\"Pholiota squarrosa\",\"Pleurotus cornucopiae\",\"Pleurotus eryngii\",\"Pleurotus ostreatus\",\"Pluteus cervinus\",\"Pluteus leoninus\",\"Polyporus squamosus\",\"Psathyrella candolleana\",\"Psathyrella piluliformis\",\"Pseudoclitocybe cyathiformis\",\"Pseudohydnum gelatinosum\",\"Psilocybe semilanceata\",\"Ramaria aurea\",\"Ramaria botrytis\",\"Ramaria formosa\",\"Ramaria stricta\",\"Rhodocollybia butyracea\",\"Russula amara\",\"Russula badia\",\"Russula cutefracta\",\"Russula cyanoxantha\",\"Russula emetica\",\"Russula olivacea\",\"Russula queletii\",\"Russula risigallina\",\"Russula chamaeleontina\",\"Russula sanguinaria\",\"Russula sardonia\",\"Russula drimeia\",\"Russula vesca\",\"Russula virescens\",\"Russula xerampelina\",\"Sarcoscypha coccinea\",\"Schizophyllum commune\",\"Scleroderma citrinum\",\"Scleroderma verrucosum\",\"Sparassis crispa\",\"Strobilomyces strobilaceus\",\"Stropharia aeruginosa\",\"Suillus bovinus\",\"Suillus cavipes\",\"Suillus granulatus\",\"Suillus grevillei\",\"Suillus luteus\",\"Tapinella atrotomentosa\",\"Tremiscus helvelloides\",\"Tricholoma album\",\"Tricholoma equestre\",\"Tricholoma pardinum\",\"Tricholoma portentosum\",\"Tricholoma scalpturatum\",\"Tricholoma sciodes\",\"Tricholoma sulphureum\",\"Tricholoma terreum\",\"Tricholoma virgatum\",\"Tricholomopsis rutilans\",\"Tuber melanosporum\",\"Tylopilus felleus\",\"Volvariella gloiocephala\",\"Xerocomus badius\",\"Xerocomus chrysenteron\",\"Xerula radicata\"]"
   ]
  },
  {
   "cell_type": "code",
   "execution_count": 6,
   "id": "b2efc07b",
   "metadata": {},
   "outputs": [],
   "source": [
    "dfchampi = df.loc[df['label'].isin(listfrance)]"
   ]
  },
  {
   "cell_type": "markdown",
   "id": "ce2b9d6c",
   "metadata": {},
   "source": [
    "# Selection TOP 10"
   ]
  },
  {
   "cell_type": "code",
   "execution_count": 7,
   "id": "f33b8134",
   "metadata": {},
   "outputs": [
    {
     "data": {
      "text/plain": [
       "(9448, 32)"
      ]
     },
     "execution_count": 7,
     "metadata": {},
     "output_type": "execute_result"
    }
   ],
   "source": [
    "counts=dfchampi[\"label\"].value_counts()\n",
    "selected = dfchampi[dfchampi[\"label\"].isin(counts.nlargest(10).index)] \n",
    "# Afficher les champignons sélectionnés\n",
    "selected.shape"
   ]
  },
  {
   "cell_type": "markdown",
   "id": "c480bcff",
   "metadata": {},
   "source": [
    "# Téléchargement des images"
   ]
  },
  {
   "cell_type": "code",
   "execution_count": 8,
   "id": "b79c307b",
   "metadata": {},
   "outputs": [
    {
     "data": {
      "text/plain": [
       "'\\n# créer un dossier pour stocker les images\\nif not os.path.exists(\"images\"):\\n    os.makedirs(\"images\")\\n\\n# itérer sur chaque ligne du dataset\\ntotal_images = len(selected)\\npercent_step = 5\\ncurrent_percent = percent_step\\nfor index, row in selected.iterrows():\\n    # récupérer l\\'URL de l\\'image\\n    image_url = row[\"image_url\"]\\n    # extraire l\\'ID de l\\'image du nom du fichier\\n    image_id = row[\"image_id\"]\\n    # récupérer le contenu de l\\'image\\n    response = requests.get(image_url)\\n    # écrire le contenu de l\\'image dans un fichier local\\n    with open(f\"images/{image_id}.jpg\", \"wb\") as f:\\n        f.write(response.content)\\n    # afficher la progression en pourcentage\\n    current_percent = (index + 1) * 100 // total_images\\n    if current_percent >= percent_step:\\n        print(f\"{current_percent}% des images téléchargées\")\\n        percent_step += 5\\n'"
      ]
     },
     "execution_count": 8,
     "metadata": {},
     "output_type": "execute_result"
    }
   ],
   "source": [
    "'''\n",
    "# créer un dossier pour stocker les images\n",
    "if not os.path.exists(\"images\"):\n",
    "    os.makedirs(\"images\")\n",
    "\n",
    "# itérer sur chaque ligne du dataset\n",
    "total_images = len(selected)\n",
    "percent_step = 5\n",
    "current_percent = percent_step\n",
    "for index, row in selected.iterrows():\n",
    "    # récupérer l'URL de l'image\n",
    "    image_url = row[\"image_url\"]\n",
    "    # extraire l'ID de l'image du nom du fichier\n",
    "    image_id = row[\"image_id\"]\n",
    "    # récupérer le contenu de l'image\n",
    "    response = requests.get(image_url)\n",
    "    # écrire le contenu de l'image dans un fichier local\n",
    "    with open(f\"images/{image_id}.jpg\", \"wb\") as f:\n",
    "        f.write(response.content)\n",
    "    # afficher la progression en pourcentage\n",
    "    current_percent = (index + 1) * 100 // total_images\n",
    "    if current_percent >= percent_step:\n",
    "        print(f\"{current_percent}% des images téléchargées\")\n",
    "        percent_step += 5\n",
    "'''"
   ]
  },
  {
   "cell_type": "code",
   "execution_count": 9,
   "id": "12156734",
   "metadata": {},
   "outputs": [],
   "source": [
    "def load_jpeg_images(path):\n",
    "    image_files = [f for f in os.listdir(path) if f.endswith('.jpg') or f.endswith('.jpeg')]\n",
    "    images = []\n",
    "    ids=[]\n",
    "    for file in image_files:\n",
    "        ids.append(os.path.splitext(file)[0])\n",
    "        with Image.open(os.path.join(path, file)) as image:\n",
    "            image_data = np.array(image)\n",
    "            images.append(image_data)\n",
    "    return pd.DataFrame({\"ids\":np.array(ids) , \"img\":np.array(images)})\n",
    "    \n",
    "df_images=load_jpeg_images(\"images/\")"
   ]
  },
  {
   "cell_type": "code",
   "execution_count": 12,
   "id": "7c343157",
   "metadata": {},
   "outputs": [],
   "source": [
    "if not os.path.exists(\"dataframe\"):\n",
    "    os.makedirs(\"dataframe\")"
   ]
  },
  {
   "cell_type": "markdown",
   "id": "956fc1fb",
   "metadata": {},
   "source": [
    "# Export en csv de notre dataframe"
   ]
  },
  {
   "cell_type": "code",
   "execution_count": 15,
   "id": "c890133b",
   "metadata": {},
   "outputs": [],
   "source": [
    "selected.to_csv(\"dataframe/champignons.csv\")"
   ]
  },
  {
   "cell_type": "code",
   "execution_count": 16,
   "id": "79ce88d8",
   "metadata": {},
   "outputs": [],
   "source": [
    "df_images.to_csv(\"dataframe/df_images.csv\")"
   ]
  }
 ],
 "metadata": {
  "kernelspec": {
   "display_name": "Python 3 (ipykernel)",
   "language": "python",
   "name": "python3"
  },
  "language_info": {
   "codemirror_mode": {
    "name": "ipython",
    "version": 3
   },
   "file_extension": ".py",
   "mimetype": "text/x-python",
   "name": "python",
   "nbconvert_exporter": "python",
   "pygments_lexer": "ipython3",
   "version": "3.9.13"
  }
 },
 "nbformat": 4,
 "nbformat_minor": 5
}
