{
 "cells": [
  {
   "cell_type": "markdown",
   "id": "e798f7df-edfc-4a47-9ae4-a281fcb32454",
   "metadata": {},
   "source": [
    "# Import des packages"
   ]
  },
  {
   "cell_type": "code",
   "execution_count": 1,
   "id": "53a9f9f1-a184-49e8-a634-257a08e4dbcb",
   "metadata": {},
   "outputs": [],
   "source": [
    "import numpy as np              # linear algebra\n",
    "import pandas as pd             # data processing, CSV file I/O (e.g. pd.read_csv)\n",
    "import os                       # files handling\n",
    "import re\n",
    "from PIL import Image\n",
    "from random import randint, seed\n",
    "from IPython.display import display\n",
    "import matplotlib.pyplot as plt\n",
    "import json\n",
    "import warnings\n",
    "import requests\n",
    "import seaborn as sns\n",
    "warnings.filterwarnings('ignore')"
   ]
  },
  {
   "cell_type": "markdown",
   "id": "4f5b9ff2-7995-4ce2-8dcc-8a9f9707480a",
   "metadata": {},
   "source": [
    "# Import des images  "
   ]
  },
  {
   "cell_type": "code",
   "execution_count": 27,
   "id": "6c8a4a24-cbde-4f31-ba4e-d89c9b1646bf",
   "metadata": {},
   "outputs": [],
   "source": [
    "def load_jpeg_images(path):\n",
    "    image_files = [f for f in os.listdir(path) if f.endswith('.jpg') or f.endswith('.jpeg')]\n",
    "    images = []\n",
    "    ids=[]\n",
    "    for file in image_files:\n",
    "        ids.append(os.path.splitext(file)[0])\n",
    "        with Image.open(os.path.join(path, file)) as image:\n",
    "            image_data = np.array(image)\n",
    "            images.append(image_data)\n",
    "    return pd.DataFrame({\"ids\":np.array(ids) , \"img\":np.array(images)})\n",
    "    \n",
    "df=load_jpeg_images(\"images/\")"
   ]
  },
  {
   "cell_type": "code",
   "execution_count": 28,
   "id": "4c849fd1-34fb-4f82-80a6-1ca784c90c0f",
   "metadata": {},
   "outputs": [
    {
     "data": {
      "text/html": [
       "<div>\n",
       "<style scoped>\n",
       "    .dataframe tbody tr th:only-of-type {\n",
       "        vertical-align: middle;\n",
       "    }\n",
       "\n",
       "    .dataframe tbody tr th {\n",
       "        vertical-align: top;\n",
       "    }\n",
       "\n",
       "    .dataframe thead th {\n",
       "        text-align: right;\n",
       "    }\n",
       "</style>\n",
       "<table border=\"1\" class=\"dataframe\">\n",
       "  <thead>\n",
       "    <tr style=\"text-align: right;\">\n",
       "      <th></th>\n",
       "      <th>ids</th>\n",
       "      <th>img</th>\n",
       "    </tr>\n",
       "  </thead>\n",
       "  <tbody>\n",
       "    <tr>\n",
       "      <th>0</th>\n",
       "      <td>521343</td>\n",
       "      <td>[[[55, 23, 0], [56, 24, 1], [57, 25, 2], [57, ...</td>\n",
       "    </tr>\n",
       "    <tr>\n",
       "      <th>1</th>\n",
       "      <td>578236</td>\n",
       "      <td>[[[87, 72, 51], [82, 67, 46], [116, 101, 80], ...</td>\n",
       "    </tr>\n",
       "    <tr>\n",
       "      <th>2</th>\n",
       "      <td>145426</td>\n",
       "      <td>[[[246, 255, 251], [246, 255, 251], [246, 255,...</td>\n",
       "    </tr>\n",
       "    <tr>\n",
       "      <th>3</th>\n",
       "      <td>322411</td>\n",
       "      <td>[[[153, 147, 157], [146, 140, 150], [145, 139,...</td>\n",
       "    </tr>\n",
       "    <tr>\n",
       "      <th>4</th>\n",
       "      <td>105764</td>\n",
       "      <td>[[[34, 41, 10], [35, 42, 11], [39, 45, 17], [4...</td>\n",
       "    </tr>\n",
       "    <tr>\n",
       "      <th>...</th>\n",
       "      <td>...</td>\n",
       "      <td>...</td>\n",
       "    </tr>\n",
       "    <tr>\n",
       "      <th>9442</th>\n",
       "      <td>584094</td>\n",
       "      <td>[[[160, 170, 143], [94, 100, 74], [125, 127, 1...</td>\n",
       "    </tr>\n",
       "    <tr>\n",
       "      <th>9443</th>\n",
       "      <td>279418</td>\n",
       "      <td>[[[121, 78, 71], [119, 76, 69], [115, 72, 65],...</td>\n",
       "    </tr>\n",
       "    <tr>\n",
       "      <th>9444</th>\n",
       "      <td>170484</td>\n",
       "      <td>[[[68, 50, 36], [70, 53, 37], [75, 58, 40], [8...</td>\n",
       "    </tr>\n",
       "    <tr>\n",
       "      <th>9445</th>\n",
       "      <td>382866</td>\n",
       "      <td>[[[39, 48, 47], [58, 67, 66], [48, 57, 56], [2...</td>\n",
       "    </tr>\n",
       "    <tr>\n",
       "      <th>9446</th>\n",
       "      <td>252845</td>\n",
       "      <td>[[[55, 63, 52], [45, 53, 42], [42, 48, 38], [2...</td>\n",
       "    </tr>\n",
       "  </tbody>\n",
       "</table>\n",
       "<p>9447 rows × 2 columns</p>\n",
       "</div>"
      ],
      "text/plain": [
       "         ids                                                img\n",
       "0     521343  [[[55, 23, 0], [56, 24, 1], [57, 25, 2], [57, ...\n",
       "1     578236  [[[87, 72, 51], [82, 67, 46], [116, 101, 80], ...\n",
       "2     145426  [[[246, 255, 251], [246, 255, 251], [246, 255,...\n",
       "3     322411  [[[153, 147, 157], [146, 140, 150], [145, 139,...\n",
       "4     105764  [[[34, 41, 10], [35, 42, 11], [39, 45, 17], [4...\n",
       "...      ...                                                ...\n",
       "9442  584094  [[[160, 170, 143], [94, 100, 74], [125, 127, 1...\n",
       "9443  279418  [[[121, 78, 71], [119, 76, 69], [115, 72, 65],...\n",
       "9444  170484  [[[68, 50, 36], [70, 53, 37], [75, 58, 40], [8...\n",
       "9445  382866  [[[39, 48, 47], [58, 67, 66], [48, 57, 56], [2...\n",
       "9446  252845  [[[55, 63, 52], [45, 53, 42], [42, 48, 38], [2...\n",
       "\n",
       "[9447 rows x 2 columns]"
      ]
     },
     "execution_count": 28,
     "metadata": {},
     "output_type": "execute_result"
    }
   ],
   "source": [
    "df"
   ]
  },
  {
   "cell_type": "code",
   "execution_count": null,
   "id": "bd4d1c9b-1761-439a-b50b-59ca676ea665",
   "metadata": {},
   "outputs": [],
   "source": []
  }
 ],
 "metadata": {
  "kernelspec": {
   "display_name": "myenvCHAMPI",
   "language": "python",
   "name": "myenvchampi"
  },
  "language_info": {
   "codemirror_mode": {
    "name": "ipython",
    "version": 3
   },
   "file_extension": ".py",
   "mimetype": "text/x-python",
   "name": "python",
   "nbconvert_exporter": "python",
   "pygments_lexer": "ipython3",
   "version": "3.8.8"
  }
 },
 "nbformat": 4,
 "nbformat_minor": 5
}
